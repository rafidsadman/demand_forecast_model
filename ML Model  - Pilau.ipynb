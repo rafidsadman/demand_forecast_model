{
 "cells": [
  {
   "cell_type": "code",
   "execution_count": 1,
   "metadata": {},
   "outputs": [],
   "source": [
    "import numpy as np\n",
    "import pandas as pd\n",
    "import seaborn as sns\n",
    "import numpy as np\n",
    "import scipy.stats\n",
    "import math\n",
    "import matplotlib.pyplot as plt"
   ]
  },
  {
   "cell_type": "code",
   "execution_count": 2,
   "metadata": {},
   "outputs": [],
   "source": [
    "def mean_confidence_interval(data, confidence=0.95):\n",
    "    a = 1.0 * np.array(data)\n",
    "    n = len(a)\n",
    "    m, se = np.mean(a), scipy.stats.sem(a)\n",
    "    h = se * scipy.stats.t.ppf((1 + confidence) / 2., n-1)\n",
    "    return m, m-h, m+h"
   ]
  },
  {
   "cell_type": "code",
   "execution_count": 3,
   "metadata": {},
   "outputs": [],
   "source": [
    "#reading the dataset\n",
    "data1 = pd.read_csv(\"ready_data_pilau_1.csv\")\n",
    "data2 = pd.read_csv(\"ready_data_pilau_2.csv\")"
   ]
  },
  {
   "cell_type": "code",
   "execution_count": 4,
   "metadata": {},
   "outputs": [],
   "source": [
    "data = data1.append(data2)"
   ]
  },
  {
   "cell_type": "code",
   "execution_count": 5,
   "metadata": {},
   "outputs": [
    {
     "name": "stdout",
     "output_type": "stream",
     "text": [
      "<class 'pandas.core.frame.DataFrame'>\n",
      "Int64Index: 2197 entries, 0 to 1095\n",
      "Data columns (total 30 columns):\n",
      " #   Column           Non-Null Count  Dtype  \n",
      "---  ------           --------------  -----  \n",
      " 0   date             2197 non-null   object \n",
      " 1   Max Temp         2197 non-null   int64  \n",
      " 2   Avg Temp         2197 non-null   float64\n",
      " 3   Min Temp         2197 non-null   int64  \n",
      " 4   Max Dew          2197 non-null   int64  \n",
      " 5   Avg Dew          2197 non-null   float64\n",
      " 6   Min Dew          2197 non-null   int64  \n",
      " 7   Max Humid        2197 non-null   int64  \n",
      " 8   Avg Humid        2197 non-null   float64\n",
      " 9   Min Humid        2197 non-null   int64  \n",
      " 10  Max Wind         2197 non-null   int64  \n",
      " 11  Avg Wind         2197 non-null   float64\n",
      " 12  Min Wind         2197 non-null   int64  \n",
      " 13  Max Pres         2197 non-null   float64\n",
      " 14  revenue          2197 non-null   float64\n",
      " 15  Avg Pres         2197 non-null   float64\n",
      " 16  Min Pres         2197 non-null   float64\n",
      " 17  Rainfall         2197 non-null   float64\n",
      " 18  Quantity         2197 non-null   int64  \n",
      " 19  year             2197 non-null   int64  \n",
      " 20  weekday          2197 non-null   object \n",
      " 21  weekend          2197 non-null   bool   \n",
      " 22  offday           2197 non-null   int64  \n",
      " 23  offday_tomorrow  2197 non-null   bool   \n",
      " 24  month            2197 non-null   int64  \n",
      " 25  delta_days       2197 non-null   int64  \n",
      " 26  delta_months     2197 non-null   int64  \n",
      " 27  delta_weeks      2197 non-null   int64  \n",
      " 28  delta_years      2197 non-null   int64  \n",
      " 29  restaurant_code  1096 non-null   object \n",
      "dtypes: bool(2), float64(9), int64(16), object(3)\n",
      "memory usage: 502.0+ KB\n"
     ]
    }
   ],
   "source": [
    "data.info()"
   ]
  },
  {
   "cell_type": "code",
   "execution_count": 6,
   "metadata": {},
   "outputs": [],
   "source": [
    "data.to_csv(\"data_final.csv\")"
   ]
  },
  {
   "cell_type": "code",
   "execution_count": 6,
   "metadata": {},
   "outputs": [],
   "source": [
    "#changing the variables to appropriate types\n",
    "data[\"weekday\"] = data[\"weekday\"].astype(\"category\")\n",
    "data[\"weekend\"] = data[\"weekend\"].astype(\"category\")\n",
    "data[\"offday\"]  = data[\"offday\"].astype(\"category\")\n",
    "data[\"month\"]   = data[\"month\"].astype(\"category\")\n",
    "data[\"offday_tomorrow\"] = data[\"offday_tomorrow\"].astype(\"category\")"
   ]
  },
  {
   "cell_type": "code",
   "execution_count": 7,
   "metadata": {},
   "outputs": [],
   "source": [
    "data[\"Rainfall\"] = data[\"Rainfall\"] + 1\n",
    "data[\"delta_days\"] = data[\"delta_days\"] + 1\n",
    "data[\"delta_months\"] = data[\"delta_months\"] + 1\n",
    "data[\"delta_years\"] = data[\"delta_years\"] + 1\n",
    "data[\"Temp Range\"] = data[\"Max Temp\"] - data[\"Min Temp\"] \n",
    "data[\"Dew Range\"] = data[\"Max Dew\"] - data[\"Min Dew\"]\n",
    "data[\"Wind Range\"] = data[\"Max Wind\"] - data[\"Min Wind\"]\n",
    "data[\"Humid Range\"] = data[\"Max Humid\"] - data[\"Min Humid\"]\n",
    "data[\"Pres Range\"] = data[\"Max Pres\"] - data[\"Min Pres\"] + 1"
   ]
  },
  {
   "cell_type": "code",
   "execution_count": 8,
   "metadata": {},
   "outputs": [
    {
     "name": "stdout",
     "output_type": "stream",
     "text": [
      "<class 'pandas.core.frame.DataFrame'>\n",
      "Int64Index: 2197 entries, 0 to 1095\n",
      "Data columns (total 35 columns):\n",
      " #   Column           Non-Null Count  Dtype   \n",
      "---  ------           --------------  -----   \n",
      " 0   date             2197 non-null   object  \n",
      " 1   Max Temp         2197 non-null   int64   \n",
      " 2   Avg Temp         2197 non-null   float64 \n",
      " 3   Min Temp         2197 non-null   int64   \n",
      " 4   Max Dew          2197 non-null   int64   \n",
      " 5   Avg Dew          2197 non-null   float64 \n",
      " 6   Min Dew          2197 non-null   int64   \n",
      " 7   Max Humid        2197 non-null   int64   \n",
      " 8   Avg Humid        2197 non-null   float64 \n",
      " 9   Min Humid        2197 non-null   int64   \n",
      " 10  Max Wind         2197 non-null   int64   \n",
      " 11  Avg Wind         2197 non-null   float64 \n",
      " 12  Min Wind         2197 non-null   int64   \n",
      " 13  Max Pres         2197 non-null   float64 \n",
      " 14  revenue          2197 non-null   float64 \n",
      " 15  Avg Pres         2197 non-null   float64 \n",
      " 16  Min Pres         2197 non-null   float64 \n",
      " 17  Rainfall         2197 non-null   float64 \n",
      " 18  Quantity         2197 non-null   int64   \n",
      " 19  year             2197 non-null   int64   \n",
      " 20  weekday          2197 non-null   category\n",
      " 21  weekend          2197 non-null   category\n",
      " 22  offday           2197 non-null   category\n",
      " 23  offday_tomorrow  2197 non-null   category\n",
      " 24  month            2197 non-null   category\n",
      " 25  delta_days       2197 non-null   int64   \n",
      " 26  delta_months     2197 non-null   int64   \n",
      " 27  delta_weeks      2197 non-null   int64   \n",
      " 28  delta_years      2197 non-null   int64   \n",
      " 29  restaurant_code  1096 non-null   object  \n",
      " 30  Temp Range       2197 non-null   int64   \n",
      " 31  Dew Range        2197 non-null   int64   \n",
      " 32  Wind Range       2197 non-null   int64   \n",
      " 33  Humid Range      2197 non-null   int64   \n",
      " 34  Pres Range       2197 non-null   float64 \n",
      "dtypes: category(5), float64(10), int64(18), object(2)\n",
      "memory usage: 543.9+ KB\n"
     ]
    }
   ],
   "source": [
    "data.info()"
   ]
  },
  {
   "cell_type": "markdown",
   "metadata": {},
   "source": [
    "####  Train Test Validation Split"
   ]
  },
  {
   "cell_type": "code",
   "execution_count": 9,
   "metadata": {},
   "outputs": [],
   "source": [
    "data[\"date\"] = pd.to_datetime(data[\"date\"])\n",
    "data[\"year\"] = data[\"date\"].dt.year"
   ]
  },
  {
   "cell_type": "code",
   "execution_count": 10,
   "metadata": {},
   "outputs": [],
   "source": [
    "validation = data[data[\"year\"] == 2019].reset_index(drop = True)"
   ]
  },
  {
   "cell_type": "code",
   "execution_count": 11,
   "metadata": {},
   "outputs": [
    {
     "data": {
      "text/html": [
       "<div>\n",
       "<style scoped>\n",
       "    .dataframe tbody tr th:only-of-type {\n",
       "        vertical-align: middle;\n",
       "    }\n",
       "\n",
       "    .dataframe tbody tr th {\n",
       "        vertical-align: top;\n",
       "    }\n",
       "\n",
       "    .dataframe thead th {\n",
       "        text-align: right;\n",
       "    }\n",
       "</style>\n",
       "<table border=\"1\" class=\"dataframe\">\n",
       "  <thead>\n",
       "    <tr style=\"text-align: right;\">\n",
       "      <th></th>\n",
       "      <th>date</th>\n",
       "      <th>Max Temp</th>\n",
       "      <th>Avg Temp</th>\n",
       "      <th>Min Temp</th>\n",
       "      <th>Max Dew</th>\n",
       "      <th>Avg Dew</th>\n",
       "      <th>Min Dew</th>\n",
       "      <th>Max Humid</th>\n",
       "      <th>Avg Humid</th>\n",
       "      <th>Min Humid</th>\n",
       "      <th>...</th>\n",
       "      <th>delta_days</th>\n",
       "      <th>delta_months</th>\n",
       "      <th>delta_weeks</th>\n",
       "      <th>delta_years</th>\n",
       "      <th>restaurant_code</th>\n",
       "      <th>Temp Range</th>\n",
       "      <th>Dew Range</th>\n",
       "      <th>Wind Range</th>\n",
       "      <th>Humid Range</th>\n",
       "      <th>Pres Range</th>\n",
       "    </tr>\n",
       "  </thead>\n",
       "  <tbody>\n",
       "    <tr>\n",
       "      <th>415</th>\n",
       "      <td>2019-07-29</td>\n",
       "      <td>77</td>\n",
       "      <td>69.5</td>\n",
       "      <td>59</td>\n",
       "      <td>57</td>\n",
       "      <td>53.7</td>\n",
       "      <td>50</td>\n",
       "      <td>82</td>\n",
       "      <td>58.1</td>\n",
       "      <td>39</td>\n",
       "      <td>...</td>\n",
       "      <td>1159</td>\n",
       "      <td>39</td>\n",
       "      <td>165</td>\n",
       "      <td>4</td>\n",
       "      <td>b</td>\n",
       "      <td>18</td>\n",
       "      <td>7</td>\n",
       "      <td>11</td>\n",
       "      <td>43</td>\n",
       "      <td>1.1</td>\n",
       "    </tr>\n",
       "    <tr>\n",
       "      <th>416</th>\n",
       "      <td>2019-07-30</td>\n",
       "      <td>70</td>\n",
       "      <td>66.5</td>\n",
       "      <td>64</td>\n",
       "      <td>61</td>\n",
       "      <td>58.2</td>\n",
       "      <td>55</td>\n",
       "      <td>88</td>\n",
       "      <td>74.8</td>\n",
       "      <td>60</td>\n",
       "      <td>...</td>\n",
       "      <td>1160</td>\n",
       "      <td>39</td>\n",
       "      <td>165</td>\n",
       "      <td>4</td>\n",
       "      <td>b</td>\n",
       "      <td>6</td>\n",
       "      <td>6</td>\n",
       "      <td>15</td>\n",
       "      <td>28</td>\n",
       "      <td>1.2</td>\n",
       "    </tr>\n",
       "    <tr>\n",
       "      <th>417</th>\n",
       "      <td>2019-08-01</td>\n",
       "      <td>77</td>\n",
       "      <td>68.9</td>\n",
       "      <td>61</td>\n",
       "      <td>59</td>\n",
       "      <td>55.7</td>\n",
       "      <td>52</td>\n",
       "      <td>82</td>\n",
       "      <td>63.7</td>\n",
       "      <td>47</td>\n",
       "      <td>...</td>\n",
       "      <td>1162</td>\n",
       "      <td>39</td>\n",
       "      <td>165</td>\n",
       "      <td>4</td>\n",
       "      <td>b</td>\n",
       "      <td>16</td>\n",
       "      <td>7</td>\n",
       "      <td>5</td>\n",
       "      <td>35</td>\n",
       "      <td>1.0</td>\n",
       "    </tr>\n",
       "    <tr>\n",
       "      <th>418</th>\n",
       "      <td>2019-08-02</td>\n",
       "      <td>77</td>\n",
       "      <td>68.2</td>\n",
       "      <td>61</td>\n",
       "      <td>61</td>\n",
       "      <td>58.0</td>\n",
       "      <td>54</td>\n",
       "      <td>94</td>\n",
       "      <td>71.8</td>\n",
       "      <td>47</td>\n",
       "      <td>...</td>\n",
       "      <td>1163</td>\n",
       "      <td>39</td>\n",
       "      <td>166</td>\n",
       "      <td>4</td>\n",
       "      <td>b</td>\n",
       "      <td>16</td>\n",
       "      <td>7</td>\n",
       "      <td>12</td>\n",
       "      <td>47</td>\n",
       "      <td>1.1</td>\n",
       "    </tr>\n",
       "    <tr>\n",
       "      <th>419</th>\n",
       "      <td>2019-08-03</td>\n",
       "      <td>75</td>\n",
       "      <td>68.3</td>\n",
       "      <td>63</td>\n",
       "      <td>61</td>\n",
       "      <td>57.7</td>\n",
       "      <td>55</td>\n",
       "      <td>88</td>\n",
       "      <td>70.3</td>\n",
       "      <td>50</td>\n",
       "      <td>...</td>\n",
       "      <td>1164</td>\n",
       "      <td>39</td>\n",
       "      <td>166</td>\n",
       "      <td>4</td>\n",
       "      <td>b</td>\n",
       "      <td>12</td>\n",
       "      <td>6</td>\n",
       "      <td>8</td>\n",
       "      <td>38</td>\n",
       "      <td>1.1</td>\n",
       "    </tr>\n",
       "  </tbody>\n",
       "</table>\n",
       "<p>5 rows × 35 columns</p>\n",
       "</div>"
      ],
      "text/plain": [
       "          date  Max Temp  Avg Temp  Min Temp  Max Dew  Avg Dew  Min Dew  \\\n",
       "415 2019-07-29        77      69.5        59       57     53.7       50   \n",
       "416 2019-07-30        70      66.5        64       61     58.2       55   \n",
       "417 2019-08-01        77      68.9        61       59     55.7       52   \n",
       "418 2019-08-02        77      68.2        61       61     58.0       54   \n",
       "419 2019-08-03        75      68.3        63       61     57.7       55   \n",
       "\n",
       "     Max Humid  Avg Humid  Min Humid  ...  delta_days  delta_months  \\\n",
       "415         82       58.1         39  ...        1159            39   \n",
       "416         88       74.8         60  ...        1160            39   \n",
       "417         82       63.7         47  ...        1162            39   \n",
       "418         94       71.8         47  ...        1163            39   \n",
       "419         88       70.3         50  ...        1164            39   \n",
       "\n",
       "     delta_weeks  delta_years  restaurant_code  Temp Range  Dew Range  \\\n",
       "415          165            4                b          18          7   \n",
       "416          165            4                b           6          6   \n",
       "417          165            4                b          16          7   \n",
       "418          166            4                b          16          7   \n",
       "419          166            4                b          12          6   \n",
       "\n",
       "     Wind Range  Humid Range  Pres Range  \n",
       "415          11           43         1.1  \n",
       "416          15           28         1.2  \n",
       "417           5           35         1.0  \n",
       "418          12           47         1.1  \n",
       "419           8           38         1.1  \n",
       "\n",
       "[5 rows x 35 columns]"
      ]
     },
     "execution_count": 11,
     "metadata": {},
     "output_type": "execute_result"
    }
   ],
   "source": [
    "validation.tail()"
   ]
  },
  {
   "cell_type": "code",
   "execution_count": 12,
   "metadata": {},
   "outputs": [],
   "source": [
    "data = data[~(data[\"year\"] == 2019)].reset_index(drop = True)"
   ]
  },
  {
   "cell_type": "code",
   "execution_count": 13,
   "metadata": {},
   "outputs": [],
   "source": [
    "y = data[\"Quantity\"]\n",
    "X = data.drop(\"Quantity\", 1)"
   ]
  },
  {
   "cell_type": "code",
   "execution_count": 14,
   "metadata": {},
   "outputs": [],
   "source": [
    "from sklearn.model_selection import train_test_split\n",
    "\n",
    "X_train, X_test, y_train, y_test = train_test_split(X, y, test_size = 0.2, random_state = 33)"
   ]
  },
  {
   "cell_type": "code",
   "execution_count": 16,
   "metadata": {},
   "outputs": [],
   "source": [
    "X_test.to_csv(\"test_set_with_date.csv\")"
   ]
  },
  {
   "cell_type": "code",
   "execution_count": 18,
   "metadata": {},
   "outputs": [],
   "source": [
    "validation.to_csv(\"validation_with_date.csv\")"
   ]
  },
  {
   "cell_type": "markdown",
   "metadata": {},
   "source": [
    "## Machine Learning Begins"
   ]
  },
  {
   "cell_type": "code",
   "execution_count": 15,
   "metadata": {},
   "outputs": [],
   "source": [
    "from sklearn.preprocessing import OneHotEncoder\n",
    "from sklearn.pipeline import Pipeline\n",
    "from sklearn.preprocessing import StandardScaler\n",
    "from sklearn.preprocessing import PowerTransformer\n",
    "from sklearn.compose import ColumnTransformer\n",
    "from sklearn.preprocessing import QuantileTransformer\n",
    "from sklearn.impute import SimpleImputer\n",
    "\n",
    "num_attribs = [\"Max Temp\",\"Min Temp\",\"Avg Temp\",\"Temp Range\", \"Avg Dew\",\"Max Dew\",\"Min Dew\",\"Dew Range\", \n",
    "               \"Avg Humid\",\"Max Humid\",\"Min Humid\", \"Humid Range\", \"Wind Range\",\n",
    "               \"Avg Wind\",\"Min Wind\",\"Max Wind\", \"Rainfall\", \"delta_days\",\n",
    "               \"delta_months\", \"delta_years\"]\n",
    "cat_attribs = [\"weekday\", \"weekend\", \"offday\", \"offday_tomorrow\", \"month\"]"
   ]
  },
  {
   "cell_type": "code",
   "execution_count": 16,
   "metadata": {},
   "outputs": [],
   "source": [
    "#setting up the numerical pipeline\n",
    "num_pipeline = Pipeline([\n",
    "    (\"std_scaler\", SimpleImputer(strategy=\"median\")),\n",
    "])"
   ]
  },
  {
   "cell_type": "code",
   "execution_count": 17,
   "metadata": {},
   "outputs": [],
   "source": [
    "#setting up the full_pipeline\n",
    "\n",
    "full_pipeline = ColumnTransformer([\n",
    "    (\"num\", num_pipeline, num_attribs),\n",
    "    (\"cat\", OneHotEncoder(), cat_attribs),\n",
    "])"
   ]
  },
  {
   "cell_type": "code",
   "execution_count": 18,
   "metadata": {},
   "outputs": [],
   "source": [
    "X_train_prep = full_pipeline.fit_transform(X_train) \n",
    "X_test_prep  = full_pipeline.transform(X_test)"
   ]
  },
  {
   "cell_type": "code",
   "execution_count": null,
   "metadata": {},
   "outputs": [],
   "source": []
  },
  {
   "cell_type": "markdown",
   "metadata": {},
   "source": [
    "-------------------------------------------------------------------------------------"
   ]
  },
  {
   "cell_type": "markdown",
   "metadata": {},
   "source": [
    "### Training a Multiple Linear Regression Model"
   ]
  },
  {
   "cell_type": "code",
   "execution_count": 24,
   "metadata": {},
   "outputs": [
    {
     "data": {
      "text/plain": [
       "LinearRegression()"
      ]
     },
     "execution_count": 24,
     "metadata": {},
     "output_type": "execute_result"
    }
   ],
   "source": [
    "from sklearn.linear_model import LinearRegression\n",
    "from sklearn.ensemble import GradientBoostingRegressor\n",
    "from sklearn.linear_model import RidgeCV\n",
    "\n",
    "lr = LinearRegression()\n",
    "\n",
    "lr.fit(X_train_prep, y_train)"
   ]
  },
  {
   "cell_type": "code",
   "execution_count": 25,
   "metadata": {},
   "outputs": [],
   "source": [
    "train_preds = lr.predict(X_train_prep)\n",
    "test_preds  = lr.predict(X_test_prep)"
   ]
  },
  {
   "cell_type": "code",
   "execution_count": 26,
   "metadata": {},
   "outputs": [],
   "source": [
    "train = {\"actual\": y_train, \"prediction\": train_preds}\n",
    "train = pd.DataFrame(data = train)\n",
    "\n",
    "test  = {\"actual\": y_test, \"prediction\": test_preds}\n",
    "test  = pd.DataFrame(data = test)\n",
    "\n",
    "train[\"residual\"] = train[\"actual\"] - train[\"prediction\"]\n",
    "test[\"residual\"]  = test[\"actual\"] - test[\"prediction\"]"
   ]
  },
  {
   "cell_type": "code",
   "execution_count": 27,
   "metadata": {},
   "outputs": [
    {
     "data": {
      "text/plain": [
       "<matplotlib.axes._subplots.AxesSubplot at 0x2230396b130>"
      ]
     },
     "execution_count": 27,
     "metadata": {},
     "output_type": "execute_result"
    },
    {
     "data": {
      "image/png": "[encoded data removed]",
      "text/plain": [
       "<Figure size 432x288 with 1 Axes>"
      ]
     },
     "metadata": {
      "needs_background": "light"
     },
     "output_type": "display_data"
    }
   ],
   "source": [
    "sns.scatterplot(data = train, x = \"actual\", y = \"residual\", alpha = 0.1)"
   ]
  },
  {
   "cell_type": "code",
   "execution_count": 28,
   "metadata": {},
   "outputs": [
    {
     "data": {
      "text/plain": [
       "<matplotlib.axes._subplots.AxesSubplot at 0x223056a00d0>"
      ]
     },
     "execution_count": 28,
     "metadata": {},
     "output_type": "execute_result"
    },
    {
     "data": {
      "image/png": "[encoded data removed]",
      "text/plain": [
       "<Figure size 432x288 with 1 Axes>"
      ]
     },
     "metadata": {
      "needs_background": "light"
     },
     "output_type": "display_data"
    }
   ],
   "source": [
    "sns.histplot(data = train, x = \"residual\")"
   ]
  },
  {
   "cell_type": "code",
   "execution_count": 46,
   "metadata": {},
   "outputs": [
    {
     "data": {
      "text/plain": [
       "0.47038415888938967"
      ]
     },
     "execution_count": 46,
     "metadata": {},
     "output_type": "execute_result"
    }
   ],
   "source": [
    "lr.score(X_test_prep, y_test)"
   ]
  },
  {
   "cell_type": "code",
   "execution_count": 31,
   "metadata": {},
   "outputs": [
    {
     "data": {
      "text/plain": [
       "count    356.000000\n",
       "mean       0.320481\n",
       "std        4.954800\n",
       "min      -12.242240\n",
       "25%       -2.733756\n",
       "50%       -0.354056\n",
       "75%        2.809671\n",
       "max       22.316354\n",
       "Name: residual, dtype: float64"
      ]
     },
     "execution_count": 31,
     "metadata": {},
     "output_type": "execute_result"
    }
   ],
   "source": [
    "test[\"residual\"].describe()"
   ]
  },
  {
   "cell_type": "markdown",
   "metadata": {},
   "source": [
    "# Training Support Vector Machine"
   ]
  },
  {
   "cell_type": "code",
   "execution_count": 46,
   "metadata": {},
   "outputs": [],
   "source": [
    "from sklearn.svm import SVR"
   ]
  },
  {
   "cell_type": "code",
   "execution_count": null,
   "metadata": {},
   "outputs": [],
   "source": [
    "svr = SVR(kernel='poly', C=100, gamma='auto', degree=3, epsilon=.1, coef0=1)\n",
    "svr.fit(X_train_prep, y_train)"
   ]
  },
  {
   "cell_type": "code",
   "execution_count": 27,
   "metadata": {},
   "outputs": [],
   "source": [
    "train_preds = svr.predict(X_train_prep)\n",
    "test_preds  = svr.predict(X_test_prep)"
   ]
  },
  {
   "cell_type": "code",
   "execution_count": 28,
   "metadata": {},
   "outputs": [],
   "source": [
    "train = {\"actual\": y_train, \"prediction\": train_preds}\n",
    "train = pd.DataFrame(data = train)\n",
    "\n",
    "test  = {\"actual\": y_test, \"prediction\": test_preds}\n",
    "test  = pd.DataFrame(data = test)\n",
    "\n",
    "train[\"residual\"] = train[\"actual\"] - train[\"prediction\"]\n",
    "test[\"residual\"]  = test[\"actual\"] - test[\"prediction\"]"
   ]
  },
  {
   "cell_type": "code",
   "execution_count": 32,
   "metadata": {},
   "outputs": [
    {
     "data": {
      "text/plain": [
       "<matplotlib.axes._subplots.AxesSubplot at 0x229bf2b2af0>"
      ]
     },
     "execution_count": 32,
     "metadata": {},
     "output_type": "execute_result"
    },
    {
     "data": {
      "image/png": "[encoded data removed]",
      "text/plain": [
       "<Figure size 432x288 with 1 Axes>"
      ]
     },
     "metadata": {
      "needs_background": "light"
     },
     "output_type": "display_data"
    }
   ],
   "source": [
    "sns.scatterplot(data = test, x = \"actual\", y = \"residual\", alpha = 0.01)"
   ]
  },
  {
   "cell_type": "code",
   "execution_count": 34,
   "metadata": {},
   "outputs": [
    {
     "data": {
      "text/plain": [
       "<matplotlib.axes._subplots.AxesSubplot at 0x229bf567fd0>"
      ]
     },
     "execution_count": 34,
     "metadata": {},
     "output_type": "execute_result"
    },
    {
     "data": {
      "image/png": "[encoded data removed]",
      "text/plain": [
       "<Figure size 432x288 with 1 Axes>"
      ]
     },
     "metadata": {
      "needs_background": "light"
     },
     "output_type": "display_data"
    }
   ],
   "source": [
    "sns.histplot(data = test, x = \"residual\", binwidth= 0.5)"
   ]
  },
  {
   "cell_type": "markdown",
   "metadata": {},
   "source": [
    "## Training an Ensemble Model"
   ]
  },
  {
   "cell_type": "code",
   "execution_count": 46,
   "metadata": {},
   "outputs": [],
   "source": [
    "from sklearn.svm import LinearSVR\n",
    "from sklearn.ensemble import StackingRegressor\n",
    "from sklearn.ensemble import RandomForestRegressor\n",
    "\n",
    "estimators = [\n",
    "    ('lr', LinearRegression()),\n",
    "    ('rf', GradientBoostingRegressor(learning_rate=0.1, n_estimators=35, random_state=42))\n",
    "]\n",
    "\n",
    "reg = StackingRegressor(\n",
    "    estimators=estimators,\n",
    "    final_estimator= RandomForestRegressor()\n",
    ")"
   ]
  },
  {
   "cell_type": "code",
   "execution_count": 47,
   "metadata": {},
   "outputs": [
    {
     "data": {
      "text/plain": [
       "StackingRegressor(estimators=[('lr', LinearRegression()),\n",
       "                              ('rf',\n",
       "                               GradientBoostingRegressor(n_estimators=35,\n",
       "                                                         random_state=42))],\n",
       "                  final_estimator=RandomForestRegressor())"
      ]
     },
     "execution_count": 47,
     "metadata": {},
     "output_type": "execute_result"
    }
   ],
   "source": [
    "reg.fit(X_train_prep, y_train)"
   ]
  },
  {
   "cell_type": "code",
   "execution_count": 179,
   "metadata": {},
   "outputs": [],
   "source": [
    "train_preds = reg.predict(X_train_prep)\n",
    "test_preds  = reg.predict(X_test_prep)"
   ]
  },
  {
   "cell_type": "code",
   "execution_count": 180,
   "metadata": {},
   "outputs": [],
   "source": [
    "train = {\"actual\": y_train, \"prediction\": train_preds}\n",
    "train = pd.DataFrame(data = train)\n",
    "\n",
    "test  = {\"actual\": y_test, \"prediction\": test_preds}\n",
    "test  = pd.DataFrame(data = test)\n",
    "\n",
    "train[\"prediction\"] = train[\"prediction\"].apply(np.round)\n",
    "test[\"prediction\"]  = test[\"prediction\"].apply(np.round)\n",
    "\n",
    "train[\"residual\"] = train[\"actual\"] - train[\"prediction\"]\n",
    "test[\"residual\"]  = test[\"actual\"] - test[\"prediction\"]"
   ]
  },
  {
   "cell_type": "code",
   "execution_count": 181,
   "metadata": {},
   "outputs": [
    {
     "data": {
      "text/plain": [
       "<matplotlib.axes._subplots.AxesSubplot at 0x1ea086fcd60>"
      ]
     },
     "execution_count": 181,
     "metadata": {},
     "output_type": "execute_result"
    },
    {
     "data": {
      "image/png": "[encoded data removed]",
      "text/plain": [
       "<Figure size 432x288 with 1 Axes>"
      ]
     },
     "metadata": {
      "needs_background": "light"
     },
     "output_type": "display_data"
    }
   ],
   "source": [
    "sns.scatterplot(data = test, x = \"actual\", y = \"residual\", alpha = 0.2)"
   ]
  },
  {
   "cell_type": "code",
   "execution_count": 182,
   "metadata": {},
   "outputs": [
    {
     "data": {
      "text/plain": [
       "<matplotlib.axes._subplots.AxesSubplot at 0x1ea0867b520>"
      ]
     },
     "execution_count": 182,
     "metadata": {},
     "output_type": "execute_result"
    },
    {
     "data": {
      "image/png": "[encoded data removed]",
      "text/plain": [
       "<Figure size 432x288 with 1 Axes>"
      ]
     },
     "metadata": {
      "needs_background": "light"
     },
     "output_type": "display_data"
    }
   ],
   "source": [
    "sns.histplot(data = test, x = \"residual\")"
   ]
  },
  {
   "cell_type": "code",
   "execution_count": 183,
   "metadata": {},
   "outputs": [
    {
     "data": {
      "text/plain": [
       "0.3513483037391223"
      ]
     },
     "execution_count": 183,
     "metadata": {},
     "output_type": "execute_result"
    }
   ],
   "source": [
    "reg.score(X_test_prep, y_test)"
   ]
  },
  {
   "cell_type": "code",
   "execution_count": 184,
   "metadata": {},
   "outputs": [
    {
     "data": {
      "text/plain": [
       "(0.5589887640449438, -0.010034478620334242, 1.1280120067102217)"
      ]
     },
     "execution_count": 184,
     "metadata": {},
     "output_type": "execute_result"
    }
   ],
   "source": [
    "mean_confidence_interval(test[\"residual\"], confidence=0.95)"
   ]
  },
  {
   "cell_type": "markdown",
   "metadata": {},
   "source": [
    "### Training a Boosted Model"
   ]
  },
  {
   "cell_type": "code",
   "execution_count": 69,
   "metadata": {},
   "outputs": [],
   "source": [
    "from sklearn.linear_model import LinearRegression\n",
    "from sklearn.ensemble import RandomForestRegressor\n",
    "from sklearn.ensemble import GradientBoostingRegressor"
   ]
  },
  {
   "cell_type": "code",
   "execution_count": 70,
   "metadata": {},
   "outputs": [
    {
     "data": {
      "text/plain": [
       "RandomForestRegressor(n_estimators=27)"
      ]
     },
     "execution_count": 70,
     "metadata": {},
     "output_type": "execute_result"
    }
   ],
   "source": [
    "rf = RandomForestRegressor(n_estimators=27)\n",
    "rf.fit(X_train_prep, y_train)"
   ]
  },
  {
   "cell_type": "code",
   "execution_count": 71,
   "metadata": {},
   "outputs": [],
   "source": [
    "train_preds = rf.predict(X_train_prep)\n",
    "test_preds  = rf.predict(X_test_prep)"
   ]
  },
  {
   "cell_type": "code",
   "execution_count": 72,
   "metadata": {},
   "outputs": [],
   "source": [
    "train = {\"actual\": y_train, \"prediction\": train_preds}\n",
    "train = pd.DataFrame(data = train)\n",
    "\n",
    "test  = {\"actual\": y_test, \"prediction\": test_preds}\n",
    "test  = pd.DataFrame(data = test)\n",
    "\n",
    "train[\"prediction\"] = train[\"prediction\"].apply(np.round)\n",
    "test[\"prediction\"]  = test[\"prediction\"].apply(np.round)\n",
    "\n",
    "train[\"residual\"] = train[\"actual\"] - train[\"prediction\"]\n",
    "test[\"residual\"]  = test[\"actual\"] - test[\"prediction\"]\n",
    "\n",
    "\n",
    "\n"
   ]
  },
  {
   "cell_type": "code",
   "execution_count": 73,
   "metadata": {},
   "outputs": [
    {
     "data": {
      "text/plain": [
       "<matplotlib.axes._subplots.AxesSubplot at 0x22acddd5400>"
      ]
     },
     "execution_count": 73,
     "metadata": {},
     "output_type": "execute_result"
    },
    {
     "data": {
      "image/png": "[encoded data removed]",
      "text/plain": [
       "<Figure size 432x288 with 1 Axes>"
      ]
     },
     "metadata": {
      "needs_background": "light"
     },
     "output_type": "display_data"
    }
   ],
   "source": [
    "sns.scatterplot(data = test, x = \"actual\", y = \"residual\", alpha = 0.2)"
   ]
  },
  {
   "cell_type": "code",
   "execution_count": 74,
   "metadata": {},
   "outputs": [
    {
     "data": {
      "text/plain": [
       "<matplotlib.axes._subplots.AxesSubplot at 0x22acd6d65e0>"
      ]
     },
     "execution_count": 74,
     "metadata": {},
     "output_type": "execute_result"
    },
    {
     "data": {
      "image/png": "[encoded data removed]",
      "text/plain": [
       "<Figure size 432x288 with 1 Axes>"
      ]
     },
     "metadata": {
      "needs_background": "light"
     },
     "output_type": "display_data"
    }
   ],
   "source": [
    "sns.histplot(data = train, x = \"residual\")"
   ]
  },
  {
   "cell_type": "code",
   "execution_count": 75,
   "metadata": {},
   "outputs": [
    {
     "data": {
      "text/plain": [
       "0.30204017828828256"
      ]
     },
     "execution_count": 75,
     "metadata": {},
     "output_type": "execute_result"
    }
   ],
   "source": [
    "rf.score(X_test_prep, y_test)"
   ]
  },
  {
   "cell_type": "code",
   "execution_count": 192,
   "metadata": {},
   "outputs": [],
   "source": [
    "test.to_csv(\"results.csv\")"
   ]
  },
  {
   "cell_type": "code",
   "execution_count": 193,
   "metadata": {},
   "outputs": [
    {
     "data": {
      "text/html": [
       "<div>\n",
       "<style scoped>\n",
       "    .dataframe tbody tr th:only-of-type {\n",
       "        vertical-align: middle;\n",
       "    }\n",
       "\n",
       "    .dataframe tbody tr th {\n",
       "        vertical-align: top;\n",
       "    }\n",
       "\n",
       "    .dataframe thead th {\n",
       "        text-align: right;\n",
       "    }\n",
       "</style>\n",
       "<table border=\"1\" class=\"dataframe\">\n",
       "  <thead>\n",
       "    <tr style=\"text-align: right;\">\n",
       "      <th></th>\n",
       "      <th>actual</th>\n",
       "      <th>prediction</th>\n",
       "      <th>residual</th>\n",
       "    </tr>\n",
       "  </thead>\n",
       "  <tbody>\n",
       "    <tr>\n",
       "      <th>1499</th>\n",
       "      <td>14</td>\n",
       "      <td>15.0</td>\n",
       "      <td>-1.0</td>\n",
       "    </tr>\n",
       "    <tr>\n",
       "      <th>1684</th>\n",
       "      <td>6</td>\n",
       "      <td>5.0</td>\n",
       "      <td>1.0</td>\n",
       "    </tr>\n",
       "    <tr>\n",
       "      <th>251</th>\n",
       "      <td>4</td>\n",
       "      <td>10.0</td>\n",
       "      <td>-6.0</td>\n",
       "    </tr>\n",
       "    <tr>\n",
       "      <th>449</th>\n",
       "      <td>4</td>\n",
       "      <td>4.0</td>\n",
       "      <td>0.0</td>\n",
       "    </tr>\n",
       "    <tr>\n",
       "      <th>894</th>\n",
       "      <td>16</td>\n",
       "      <td>9.0</td>\n",
       "      <td>7.0</td>\n",
       "    </tr>\n",
       "    <tr>\n",
       "      <th>...</th>\n",
       "      <td>...</td>\n",
       "      <td>...</td>\n",
       "      <td>...</td>\n",
       "    </tr>\n",
       "    <tr>\n",
       "      <th>1734</th>\n",
       "      <td>25</td>\n",
       "      <td>11.0</td>\n",
       "      <td>14.0</td>\n",
       "    </tr>\n",
       "    <tr>\n",
       "      <th>879</th>\n",
       "      <td>6</td>\n",
       "      <td>11.0</td>\n",
       "      <td>-5.0</td>\n",
       "    </tr>\n",
       "    <tr>\n",
       "      <th>197</th>\n",
       "      <td>2</td>\n",
       "      <td>8.0</td>\n",
       "      <td>-6.0</td>\n",
       "    </tr>\n",
       "    <tr>\n",
       "      <th>241</th>\n",
       "      <td>1</td>\n",
       "      <td>10.0</td>\n",
       "      <td>-9.0</td>\n",
       "    </tr>\n",
       "    <tr>\n",
       "      <th>1671</th>\n",
       "      <td>24</td>\n",
       "      <td>18.0</td>\n",
       "      <td>6.0</td>\n",
       "    </tr>\n",
       "  </tbody>\n",
       "</table>\n",
       "<p>356 rows × 3 columns</p>\n",
       "</div>"
      ],
      "text/plain": [
       "      actual  prediction  residual\n",
       "1499      14        15.0      -1.0\n",
       "1684       6         5.0       1.0\n",
       "251        4        10.0      -6.0\n",
       "449        4         4.0       0.0\n",
       "894       16         9.0       7.0\n",
       "...      ...         ...       ...\n",
       "1734      25        11.0      14.0\n",
       "879        6        11.0      -5.0\n",
       "197        2         8.0      -6.0\n",
       "241        1        10.0      -9.0\n",
       "1671      24        18.0       6.0\n",
       "\n",
       "[356 rows x 3 columns]"
      ]
     },
     "execution_count": 193,
     "metadata": {},
     "output_type": "execute_result"
    }
   ],
   "source": [
    "test"
   ]
  },
  {
   "cell_type": "markdown",
   "metadata": {},
   "source": [
    "## Running on the Validation Set"
   ]
  },
  {
   "cell_type": "code",
   "execution_count": 35,
   "metadata": {},
   "outputs": [],
   "source": [
    "# Preparing the validation set\n",
    "\n",
    "y_val = validation[\"Quantity\"]\n",
    "X_val = validation.drop(\"Quantity\", 1)\n",
    "\n",
    "X_val_prep = full_pipeline.transform(X_val)"
   ]
  },
  {
   "cell_type": "code",
   "execution_count": 36,
   "metadata": {},
   "outputs": [],
   "source": [
    "val_preds = svr.predict(X_val_prep)"
   ]
  },
  {
   "cell_type": "code",
   "execution_count": 37,
   "metadata": {},
   "outputs": [],
   "source": [
    "val  = {\"actual\": y_val, \"prediction\": val_preds}\n",
    "val  = pd.DataFrame(data = val)\n",
    "\n",
    "val[\"prediction\"] = val[\"prediction\"].apply(np.round)\n",
    "val[\"residual\"]  = val[\"actual\"] - val[\"prediction\"]\n",
    "val[\"restaurant\"] = validation[\"restaurant_code\"]"
   ]
  },
  {
   "cell_type": "code",
   "execution_count": 38,
   "metadata": {},
   "outputs": [],
   "source": [
    "val[\"week\"] = np.ceil(val.index / 7)"
   ]
  },
  {
   "cell_type": "code",
   "execution_count": 44,
   "metadata": {},
   "outputs": [],
   "source": [
    "val.to_csv(\"val.csv\")"
   ]
  },
  {
   "cell_type": "code",
   "execution_count": 39,
   "metadata": {},
   "outputs": [],
   "source": [
    "val[\"date\"] = validation[\"date\"]"
   ]
  },
  {
   "cell_type": "code",
   "execution_count": 40,
   "metadata": {},
   "outputs": [
    {
     "name": "stdout",
     "output_type": "stream",
     "text": [
      "<class 'pandas.core.frame.DataFrame'>\n",
      "RangeIndex: 420 entries, 0 to 419\n",
      "Data columns (total 35 columns):\n",
      " #   Column           Non-Null Count  Dtype         \n",
      "---  ------           --------------  -----         \n",
      " 0   date             420 non-null    datetime64[ns]\n",
      " 1   Max Temp         420 non-null    int64         \n",
      " 2   Avg Temp         420 non-null    float64       \n",
      " 3   Min Temp         420 non-null    int64         \n",
      " 4   Max Dew          420 non-null    int64         \n",
      " 5   Avg Dew          420 non-null    float64       \n",
      " 6   Min Dew          420 non-null    int64         \n",
      " 7   Max Humid        420 non-null    int64         \n",
      " 8   Avg Humid        420 non-null    float64       \n",
      " 9   Min Humid        420 non-null    int64         \n",
      " 10  Max Wind         420 non-null    int64         \n",
      " 11  Avg Wind         420 non-null    float64       \n",
      " 12  Min Wind         420 non-null    int64         \n",
      " 13  Max Pres         420 non-null    float64       \n",
      " 14  revenue          420 non-null    float64       \n",
      " 15  Avg Pres         420 non-null    float64       \n",
      " 16  Min Pres         420 non-null    float64       \n",
      " 17  Rainfall         420 non-null    float64       \n",
      " 18  Quantity         420 non-null    int64         \n",
      " 19  year             420 non-null    int64         \n",
      " 20  weekday          420 non-null    category      \n",
      " 21  weekend          420 non-null    category      \n",
      " 22  offday           420 non-null    category      \n",
      " 23  offday_tomorrow  420 non-null    category      \n",
      " 24  month            420 non-null    category      \n",
      " 25  delta_days       420 non-null    int64         \n",
      " 26  delta_months     420 non-null    int64         \n",
      " 27  delta_weeks      420 non-null    int64         \n",
      " 28  delta_years      420 non-null    int64         \n",
      " 29  restaurant_code  213 non-null    object        \n",
      " 30  Temp Range       420 non-null    int64         \n",
      " 31  Dew Range        420 non-null    int64         \n",
      " 32  Wind Range       420 non-null    int64         \n",
      " 33  Humid Range      420 non-null    int64         \n",
      " 34  Pres Range       420 non-null    float64       \n",
      "dtypes: category(5), datetime64[ns](1), float64(10), int64(18), object(1)\n",
      "memory usage: 101.7+ KB\n"
     ]
    }
   ],
   "source": [
    "validation.info()"
   ]
  },
  {
   "cell_type": "code",
   "execution_count": 41,
   "metadata": {},
   "outputs": [
    {
     "data": {
      "image/png": "[encoded data removed]",
      "text/plain": [
       "<Figure size 432x288 with 1 Axes>"
      ]
     },
     "metadata": {
      "needs_background": "light"
     },
     "output_type": "display_data"
    }
   ],
   "source": [
    "g = sns.histplot(data = val, x = val[\"residual\"], bins = 40)\n",
    "#g.set_xlim(-300, 100)"
   ]
  },
  {
   "cell_type": "code",
   "execution_count": 45,
   "metadata": {},
   "outputs": [
    {
     "data": {
      "image/png": "[encoded data removed]",
      "text/plain": [
       "<Figure size 432x288 with 1 Axes>"
      ]
     },
     "metadata": {
      "needs_background": "light"
     },
     "output_type": "display_data"
    }
   ],
   "source": [
    "g = sns.scatterplot(data = val, x = \"actual\", y = \"res%ofact\", alpha = 0.3)\n",
    "#g.set_ylim(-200, 100)\n",
    "#g.set_xlim(-5, 30)"
   ]
  },
  {
   "cell_type": "code",
   "execution_count": 43,
   "metadata": {},
   "outputs": [],
   "source": [
    "val[\"res%ofact\"] = val[\"residual\"]/val[\"actual\"]*100"
   ]
  },
  {
   "cell_type": "code",
   "execution_count": 44,
   "metadata": {},
   "outputs": [
    {
     "data": {
      "text/plain": [
       "count    420.000000\n",
       "mean     -76.947457\n",
       "std      191.192400\n",
       "min     -700.000000\n",
       "25%     -100.000000\n",
       "50%      -14.285714\n",
       "75%       38.461538\n",
       "max       81.395349\n",
       "Name: res%ofact, dtype: float64"
      ]
     },
     "execution_count": 44,
     "metadata": {},
     "output_type": "execute_result"
    }
   ],
   "source": [
    "val[\"res%ofact\"].describe()"
   ]
  },
  {
   "cell_type": "code",
   "execution_count": null,
   "metadata": {},
   "outputs": [],
   "source": []
  },
  {
   "cell_type": "markdown",
   "metadata": {},
   "source": [
    "# Grid Search CV "
   ]
  },
  {
   "cell_type": "code",
   "execution_count": 76,
   "metadata": {},
   "outputs": [],
   "source": [
    "from sklearn.model_selection import GridSearchCV\n",
    "param_grid = [\n",
    "{'n_estimators': list(range(10,40, 5)), 'max_features': list(range(3,20, 3))},\n",
    "{'bootstrap': [False], 'n_estimators': list(range(20,40,5)), 'max_features': list(range(3,20,3))},\n",
    "]"
   ]
  },
  {
   "cell_type": "code",
   "execution_count": 77,
   "metadata": {},
   "outputs": [],
   "source": [
    "grid_search = GridSearchCV(rf, param_grid, cv=5, scoring='neg_mean_squared_error', return_train_score=True, verbose = 10)"
   ]
  },
  {
   "cell_type": "code",
   "execution_count": 78,
   "metadata": {},
   "outputs": [
    {
     "name": "stdout",
     "output_type": "stream",
     "text": [
      "Fitting 5 folds for each of 60 candidates, totalling 300 fits\n",
      "[CV] max_features=3, n_estimators=10 .................................\n",
      "[CV]  max_features=3, n_estimators=10, score=(train=-6.412, test=-34.296), total=   0.0s\n",
      "[CV] max_features=3, n_estimators=10 .................................\n",
      "[CV]  max_features=3, n_estimators=10, score=(train=-5.770, test=-44.467), total=   0.0s\n",
      "[CV] max_features=3, n_estimators=10 .................................\n",
      "[CV]  max_features=3, n_estimators=10, score=(train=-6.625, test=-42.336), total=   0.1s\n",
      "[CV] max_features=3, n_estimators=10 .................................\n"
     ]
    },
    {
     "name": "stderr",
     "output_type": "stream",
     "text": [
      "[Parallel(n_jobs=1)]: Using backend SequentialBackend with 1 concurrent workers.\n",
      "[Parallel(n_jobs=1)]: Done   1 out of   1 | elapsed:    0.0s remaining:    0.0s\n",
      "[Parallel(n_jobs=1)]: Done   2 out of   2 | elapsed:    0.0s remaining:    0.0s\n",
      "[Parallel(n_jobs=1)]: Done   3 out of   3 | elapsed:    0.1s remaining:    0.0s\n"
     ]
    },
    {
     "name": "stdout",
     "output_type": "stream",
     "text": [
      "[CV]  max_features=3, n_estimators=10, score=(train=-6.527, test=-32.843), total=   0.1s\n",
      "[CV] max_features=3, n_estimators=10 .................................\n",
      "[CV]  max_features=3, n_estimators=10, score=(train=-6.215, test=-34.032), total=   0.0s\n",
      "[CV] max_features=3, n_estimators=15 .................................\n",
      "[CV]  max_features=3, n_estimators=15, score=(train=-5.582, test=-34.848), total=   0.1s\n",
      "[CV] max_features=3, n_estimators=15 .................................\n"
     ]
    },
    {
     "name": "stderr",
     "output_type": "stream",
     "text": [
      "[Parallel(n_jobs=1)]: Done   4 out of   4 | elapsed:    0.1s remaining:    0.0s\n",
      "[Parallel(n_jobs=1)]: Done   5 out of   5 | elapsed:    0.2s remaining:    0.0s\n",
      "[Parallel(n_jobs=1)]: Done   6 out of   6 | elapsed:    0.3s remaining:    0.0s\n"
     ]
    },
    {
     "name": "stdout",
     "output_type": "stream",
     "text": [
      "[CV]  max_features=3, n_estimators=15, score=(train=-5.370, test=-40.057), total=   0.1s\n",
      "[CV] max_features=3, n_estimators=15 .................................\n",
      "[CV]  max_features=3, n_estimators=15, score=(train=-5.597, test=-39.129), total=   0.0s\n",
      "[CV] max_features=3, n_estimators=15 .................................\n",
      "[CV]  max_features=3, n_estimators=15, score=(train=-6.245, test=-34.301), total=   0.1s\n",
      "[CV] max_features=3, n_estimators=15 .................................\n"
     ]
    },
    {
     "name": "stderr",
     "output_type": "stream",
     "text": [
      "[Parallel(n_jobs=1)]: Done   7 out of   7 | elapsed:    0.4s remaining:    0.0s\n",
      "[Parallel(n_jobs=1)]: Done   8 out of   8 | elapsed:    0.4s remaining:    0.0s\n",
      "[Parallel(n_jobs=1)]: Done   9 out of   9 | elapsed:    0.5s remaining:    0.0s\n"
     ]
    },
    {
     "name": "stdout",
     "output_type": "stream",
     "text": [
      "[CV]  max_features=3, n_estimators=15, score=(train=-5.906, test=-34.976), total=   0.1s\n",
      "[CV] max_features=3, n_estimators=20 .................................\n",
      "[CV]  max_features=3, n_estimators=20, score=(train=-5.386, test=-36.514), total=   0.1s\n",
      "[CV] max_features=3, n_estimators=20 .................................\n",
      "[CV]  max_features=3, n_estimators=20, score=(train=-5.547, test=-41.049), total=   0.1s\n",
      "[CV] max_features=3, n_estimators=20 .................................\n",
      "[CV]  max_features=3, n_estimators=20, score=(train=-5.630, test=-41.515), total=   0.1s\n",
      "[CV] max_features=3, n_estimators=20 .................................\n",
      "[CV]  max_features=3, n_estimators=20, score=(train=-6.163, test=-31.133), total=   0.1s\n",
      "[CV] max_features=3, n_estimators=20 .................................\n",
      "[CV]  max_features=3, n_estimators=20, score=(train=-5.460, test=-29.422), total=   0.1s\n",
      "[CV] max_features=3, n_estimators=25 .................................\n",
      "[CV]  max_features=3, n_estimators=25, score=(train=-5.357, test=-33.979), total=   0.2s\n",
      "[CV] max_features=3, n_estimators=25 .................................\n",
      "[CV]  max_features=3, n_estimators=25, score=(train=-5.050, test=-40.819), total=   0.1s\n",
      "[CV] max_features=3, n_estimators=25 .................................\n",
      "[CV]  max_features=3, n_estimators=25, score=(train=-5.384, test=-39.561), total=   0.1s\n",
      "[CV] max_features=3, n_estimators=25 .................................\n",
      "[CV]  max_features=3, n_estimators=25, score=(train=-5.793, test=-31.676), total=   0.1s\n",
      "[CV] max_features=3, n_estimators=25 .................................\n",
      "[CV]  max_features=3, n_estimators=25, score=(train=-5.825, test=-31.495), total=   0.1s\n",
      "[CV] max_features=3, n_estimators=30 .................................\n",
      "[CV]  max_features=3, n_estimators=30, score=(train=-5.846, test=-33.542), total=   0.2s\n",
      "[CV] max_features=3, n_estimators=30 .................................\n",
      "[CV]  max_features=3, n_estimators=30, score=(train=-5.051, test=-43.291), total=   0.1s\n",
      "[CV] max_features=3, n_estimators=30 .................................\n",
      "[CV]  max_features=3, n_estimators=30, score=(train=-5.103, test=-39.956), total=   0.2s\n",
      "[CV] max_features=3, n_estimators=30 .................................\n",
      "[CV]  max_features=3, n_estimators=30, score=(train=-5.808, test=-30.490), total=   0.2s\n",
      "[CV] max_features=3, n_estimators=30 .................................\n",
      "[CV]  max_features=3, n_estimators=30, score=(train=-5.378, test=-31.457), total=   0.1s\n",
      "[CV] max_features=3, n_estimators=35 .................................\n",
      "[CV]  max_features=3, n_estimators=35, score=(train=-5.339, test=-33.997), total=   0.2s\n",
      "[CV] max_features=3, n_estimators=35 .................................\n",
      "[CV]  max_features=3, n_estimators=35, score=(train=-5.015, test=-39.731), total=   0.2s\n",
      "[CV] max_features=3, n_estimators=35 .................................\n",
      "[CV]  max_features=3, n_estimators=35, score=(train=-4.896, test=-40.475), total=   0.2s\n",
      "[CV] max_features=3, n_estimators=35 .................................\n",
      "[CV]  max_features=3, n_estimators=35, score=(train=-5.480, test=-30.168), total=   0.2s\n",
      "[CV] max_features=3, n_estimators=35 .................................\n",
      "[CV]  max_features=3, n_estimators=35, score=(train=-5.219, test=-31.930), total=   0.2s\n",
      "[CV] max_features=6, n_estimators=10 .................................\n",
      "[CV]  max_features=6, n_estimators=10, score=(train=-6.777, test=-35.343), total=   0.1s\n",
      "[CV] max_features=6, n_estimators=10 .................................\n",
      "[CV]  max_features=6, n_estimators=10, score=(train=-5.608, test=-43.613), total=   0.1s\n",
      "[CV] max_features=6, n_estimators=10 .................................\n",
      "[CV]  max_features=6, n_estimators=10, score=(train=-5.946, test=-40.020), total=   0.1s\n",
      "[CV] max_features=6, n_estimators=10 .................................\n",
      "[CV]  max_features=6, n_estimators=10, score=(train=-6.422, test=-32.600), total=   0.1s\n",
      "[CV] max_features=6, n_estimators=10 .................................\n",
      "[CV]  max_features=6, n_estimators=10, score=(train=-7.309, test=-32.345), total=   0.1s\n",
      "[CV] max_features=6, n_estimators=15 .................................\n",
      "[CV]  max_features=6, n_estimators=15, score=(train=-5.832, test=-35.737), total=   0.1s\n",
      "[CV] max_features=6, n_estimators=15 .................................\n",
      "[CV]  max_features=6, n_estimators=15, score=(train=-5.469, test=-40.927), total=   0.1s\n",
      "[CV] max_features=6, n_estimators=15 .................................\n",
      "[CV]  max_features=6, n_estimators=15, score=(train=-5.719, test=-39.955), total=   0.1s\n",
      "[CV] max_features=6, n_estimators=15 .................................\n",
      "[CV]  max_features=6, n_estimators=15, score=(train=-6.067, test=-32.334), total=   0.1s\n",
      "[CV] max_features=6, n_estimators=15 .................................\n",
      "[CV]  max_features=6, n_estimators=15, score=(train=-5.642, test=-30.343), total=   0.1s\n",
      "[CV] max_features=6, n_estimators=20 .................................\n",
      "[CV]  max_features=6, n_estimators=20, score=(train=-6.076, test=-35.172), total=   0.1s\n",
      "[CV] max_features=6, n_estimators=20 .................................\n",
      "[CV]  max_features=6, n_estimators=20, score=(train=-5.110, test=-41.578), total=   0.1s\n",
      "[CV] max_features=6, n_estimators=20 .................................\n",
      "[CV]  max_features=6, n_estimators=20, score=(train=-5.649, test=-39.925), total=   0.1s\n",
      "[CV] max_features=6, n_estimators=20 .................................\n",
      "[CV]  max_features=6, n_estimators=20, score=(train=-5.758, test=-31.341), total=   0.1s\n",
      "[CV] max_features=6, n_estimators=20 .................................\n",
      "[CV]  max_features=6, n_estimators=20, score=(train=-5.826, test=-31.690), total=   0.1s\n",
      "[CV] max_features=6, n_estimators=25 .................................\n",
      "[CV]  max_features=6, n_estimators=25, score=(train=-5.330, test=-34.336), total=   0.1s\n",
      "[CV] max_features=6, n_estimators=25 .................................\n",
      "[CV]  max_features=6, n_estimators=25, score=(train=-5.373, test=-42.142), total=   0.2s\n",
      "[CV] max_features=6, n_estimators=25 .................................\n",
      "[CV]  max_features=6, n_estimators=25, score=(train=-5.391, test=-39.606), total=   0.1s\n",
      "[CV] max_features=6, n_estimators=25 .................................\n",
      "[CV]  max_features=6, n_estimators=25, score=(train=-5.104, test=-30.315), total=   0.1s\n",
      "[CV] max_features=6, n_estimators=25 .................................\n",
      "[CV]  max_features=6, n_estimators=25, score=(train=-5.468, test=-30.802), total=   0.2s\n",
      "[CV] max_features=6, n_estimators=30 .................................\n",
      "[CV]  max_features=6, n_estimators=30, score=(train=-5.266, test=-33.739), total=   0.1s\n",
      "[CV] max_features=6, n_estimators=30 .................................\n",
      "[CV]  max_features=6, n_estimators=30, score=(train=-4.984, test=-41.073), total=   0.2s\n",
      "[CV] max_features=6, n_estimators=30 .................................\n",
      "[CV]  max_features=6, n_estimators=30, score=(train=-5.152, test=-39.978), total=   0.2s\n",
      "[CV] max_features=6, n_estimators=30 .................................\n",
      "[CV]  max_features=6, n_estimators=30, score=(train=-5.704, test=-29.784), total=   0.2s\n",
      "[CV] max_features=6, n_estimators=30 .................................\n",
      "[CV]  max_features=6, n_estimators=30, score=(train=-5.355, test=-31.348), total=   0.2s\n",
      "[CV] max_features=6, n_estimators=35 .................................\n",
      "[CV]  max_features=6, n_estimators=35, score=(train=-5.103, test=-33.078), total=   0.2s\n",
      "[CV] max_features=6, n_estimators=35 .................................\n",
      "[CV]  max_features=6, n_estimators=35, score=(train=-4.978, test=-38.947), total=   0.2s\n",
      "[CV] max_features=6, n_estimators=35 .................................\n",
      "[CV]  max_features=6, n_estimators=35, score=(train=-4.981, test=-40.315), total=   0.2s\n",
      "[CV] max_features=6, n_estimators=35 .................................\n",
      "[CV]  max_features=6, n_estimators=35, score=(train=-5.307, test=-30.735), total=   0.3s\n",
      "[CV] max_features=6, n_estimators=35 .................................\n",
      "[CV]  max_features=6, n_estimators=35, score=(train=-5.450, test=-30.805), total=   0.2s\n",
      "[CV] max_features=9, n_estimators=10 .................................\n",
      "[CV]  max_features=9, n_estimators=10, score=(train=-6.128, test=-36.824), total=   0.1s\n",
      "[CV] max_features=9, n_estimators=10 .................................\n"
     ]
    },
    {
     "name": "stdout",
     "output_type": "stream",
     "text": [
      "[CV]  max_features=9, n_estimators=10, score=(train=-6.080, test=-40.969), total=   0.1s\n",
      "[CV] max_features=9, n_estimators=10 .................................\n",
      "[CV]  max_features=9, n_estimators=10, score=(train=-6.213, test=-39.315), total=   0.1s\n",
      "[CV] max_features=9, n_estimators=10 .................................\n",
      "[CV]  max_features=9, n_estimators=10, score=(train=-6.891, test=-31.402), total=   0.1s\n",
      "[CV] max_features=9, n_estimators=10 .................................\n",
      "[CV]  max_features=9, n_estimators=10, score=(train=-7.010, test=-35.624), total=   0.1s\n",
      "[CV] max_features=9, n_estimators=15 .................................\n",
      "[CV]  max_features=9, n_estimators=15, score=(train=-5.845, test=-35.352), total=   0.1s\n",
      "[CV] max_features=9, n_estimators=15 .................................\n",
      "[CV]  max_features=9, n_estimators=15, score=(train=-5.716, test=-41.107), total=   0.1s\n",
      "[CV] max_features=9, n_estimators=15 .................................\n",
      "[CV]  max_features=9, n_estimators=15, score=(train=-5.781, test=-39.209), total=   0.1s\n",
      "[CV] max_features=9, n_estimators=15 .................................\n",
      "[CV]  max_features=9, n_estimators=15, score=(train=-5.933, test=-32.019), total=   0.1s\n",
      "[CV] max_features=9, n_estimators=15 .................................\n",
      "[CV]  max_features=9, n_estimators=15, score=(train=-6.113, test=-31.349), total=   0.1s\n",
      "[CV] max_features=9, n_estimators=20 .................................\n",
      "[CV]  max_features=9, n_estimators=20, score=(train=-5.560, test=-32.724), total=   0.2s\n",
      "[CV] max_features=9, n_estimators=20 .................................\n",
      "[CV]  max_features=9, n_estimators=20, score=(train=-5.368, test=-41.111), total=   0.2s\n",
      "[CV] max_features=9, n_estimators=20 .................................\n",
      "[CV]  max_features=9, n_estimators=20, score=(train=-5.797, test=-43.360), total=   0.1s\n",
      "[CV] max_features=9, n_estimators=20 .................................\n",
      "[CV]  max_features=9, n_estimators=20, score=(train=-5.868, test=-30.214), total=   0.1s\n",
      "[CV] max_features=9, n_estimators=20 .................................\n",
      "[CV]  max_features=9, n_estimators=20, score=(train=-5.716, test=-32.586), total=   0.2s\n",
      "[CV] max_features=9, n_estimators=25 .................................\n",
      "[CV]  max_features=9, n_estimators=25, score=(train=-5.586, test=-34.652), total=   0.2s\n",
      "[CV] max_features=9, n_estimators=25 .................................\n",
      "[CV]  max_features=9, n_estimators=25, score=(train=-5.182, test=-38.879), total=   0.2s\n",
      "[CV] max_features=9, n_estimators=25 .................................\n",
      "[CV]  max_features=9, n_estimators=25, score=(train=-4.912, test=-39.091), total=   0.2s\n",
      "[CV] max_features=9, n_estimators=25 .................................\n",
      "[CV]  max_features=9, n_estimators=25, score=(train=-5.593, test=-30.740), total=   0.2s\n",
      "[CV] max_features=9, n_estimators=25 .................................\n",
      "[CV]  max_features=9, n_estimators=25, score=(train=-5.512, test=-31.841), total=   0.2s\n",
      "[CV] max_features=9, n_estimators=30 .................................\n",
      "[CV]  max_features=9, n_estimators=30, score=(train=-4.998, test=-33.803), total=   0.2s\n",
      "[CV] max_features=9, n_estimators=30 .................................\n",
      "[CV]  max_features=9, n_estimators=30, score=(train=-5.055, test=-39.367), total=   0.2s\n",
      "[CV] max_features=9, n_estimators=30 .................................\n",
      "[CV]  max_features=9, n_estimators=30, score=(train=-5.232, test=-39.331), total=   0.2s\n",
      "[CV] max_features=9, n_estimators=30 .................................\n",
      "[CV]  max_features=9, n_estimators=30, score=(train=-5.570, test=-30.938), total=   0.2s\n",
      "[CV] max_features=9, n_estimators=30 .................................\n",
      "[CV]  max_features=9, n_estimators=30, score=(train=-5.453, test=-30.850), total=   0.2s\n",
      "[CV] max_features=9, n_estimators=35 .................................\n",
      "[CV]  max_features=9, n_estimators=35, score=(train=-5.007, test=-34.043), total=   0.3s\n",
      "[CV] max_features=9, n_estimators=35 .................................\n",
      "[CV]  max_features=9, n_estimators=35, score=(train=-4.803, test=-38.513), total=   0.3s\n",
      "[CV] max_features=9, n_estimators=35 .................................\n",
      "[CV]  max_features=9, n_estimators=35, score=(train=-4.891, test=-41.332), total=   0.4s\n",
      "[CV] max_features=9, n_estimators=35 .................................\n",
      "[CV]  max_features=9, n_estimators=35, score=(train=-5.415, test=-28.901), total=   0.3s\n",
      "[CV] max_features=9, n_estimators=35 .................................\n",
      "[CV]  max_features=9, n_estimators=35, score=(train=-5.036, test=-30.473), total=   0.3s\n",
      "[CV] max_features=12, n_estimators=10 ................................\n",
      "[CV]  max_features=12, n_estimators=10, score=(train=-6.080, test=-34.415), total=   0.1s\n",
      "[CV] max_features=12, n_estimators=10 ................................\n",
      "[CV]  max_features=12, n_estimators=10, score=(train=-6.499, test=-43.252), total=   0.1s\n",
      "[CV] max_features=12, n_estimators=10 ................................\n",
      "[CV]  max_features=12, n_estimators=10, score=(train=-6.070, test=-40.607), total=   0.1s\n",
      "[CV] max_features=12, n_estimators=10 ................................\n",
      "[CV]  max_features=12, n_estimators=10, score=(train=-5.796, test=-28.604), total=   0.1s\n",
      "[CV] max_features=12, n_estimators=10 ................................\n",
      "[CV]  max_features=12, n_estimators=10, score=(train=-7.022, test=-32.616), total=   0.1s\n",
      "[CV] max_features=12, n_estimators=15 ................................\n",
      "[CV]  max_features=12, n_estimators=15, score=(train=-5.433, test=-33.986), total=   0.1s\n",
      "[CV] max_features=12, n_estimators=15 ................................\n",
      "[CV]  max_features=12, n_estimators=15, score=(train=-5.363, test=-40.938), total=   0.1s\n",
      "[CV] max_features=12, n_estimators=15 ................................\n",
      "[CV]  max_features=12, n_estimators=15, score=(train=-5.247, test=-39.343), total=   0.1s\n",
      "[CV] max_features=12, n_estimators=15 ................................\n",
      "[CV]  max_features=12, n_estimators=15, score=(train=-5.957, test=-31.815), total=   0.2s\n",
      "[CV] max_features=12, n_estimators=15 ................................\n",
      "[CV]  max_features=12, n_estimators=15, score=(train=-6.247, test=-33.453), total=   0.1s\n",
      "[CV] max_features=12, n_estimators=20 ................................\n",
      "[CV]  max_features=12, n_estimators=20, score=(train=-5.502, test=-33.024), total=   0.2s\n",
      "[CV] max_features=12, n_estimators=20 ................................\n",
      "[CV]  max_features=12, n_estimators=20, score=(train=-5.243, test=-38.711), total=   0.2s\n",
      "[CV] max_features=12, n_estimators=20 ................................\n",
      "[CV]  max_features=12, n_estimators=20, score=(train=-5.737, test=-39.228), total=   0.2s\n",
      "[CV] max_features=12, n_estimators=20 ................................\n",
      "[CV]  max_features=12, n_estimators=20, score=(train=-5.528, test=-29.869), total=   0.2s\n",
      "[CV] max_features=12, n_estimators=20 ................................\n",
      "[CV]  max_features=12, n_estimators=20, score=(train=-5.412, test=-31.416), total=   0.2s\n",
      "[CV] max_features=12, n_estimators=25 ................................\n",
      "[CV]  max_features=12, n_estimators=25, score=(train=-5.413, test=-33.707), total=   0.2s\n",
      "[CV] max_features=12, n_estimators=25 ................................\n",
      "[CV]  max_features=12, n_estimators=25, score=(train=-5.302, test=-39.596), total=   0.2s\n",
      "[CV] max_features=12, n_estimators=25 ................................\n",
      "[CV]  max_features=12, n_estimators=25, score=(train=-5.018, test=-40.945), total=   0.2s\n",
      "[CV] max_features=12, n_estimators=25 ................................\n",
      "[CV]  max_features=12, n_estimators=25, score=(train=-5.499, test=-30.802), total=   0.2s\n",
      "[CV] max_features=12, n_estimators=25 ................................\n",
      "[CV]  max_features=12, n_estimators=25, score=(train=-5.345, test=-32.419), total=   0.2s\n",
      "[CV] max_features=12, n_estimators=30 ................................\n",
      "[CV]  max_features=12, n_estimators=30, score=(train=-5.296, test=-34.737), total=   0.3s\n",
      "[CV] max_features=12, n_estimators=30 ................................\n",
      "[CV]  max_features=12, n_estimators=30, score=(train=-5.061, test=-39.169), total=   0.3s\n",
      "[CV] max_features=12, n_estimators=30 ................................\n",
      "[CV]  max_features=12, n_estimators=30, score=(train=-5.126, test=-40.297), total=   0.3s\n",
      "[CV] max_features=12, n_estimators=30 ................................\n"
     ]
    },
    {
     "name": "stdout",
     "output_type": "stream",
     "text": [
      "[CV]  max_features=12, n_estimators=30, score=(train=-5.242, test=-29.734), total=   0.3s\n",
      "[CV] max_features=12, n_estimators=30 ................................\n",
      "[CV]  max_features=12, n_estimators=30, score=(train=-5.225, test=-31.210), total=   0.3s\n",
      "[CV] max_features=12, n_estimators=35 ................................\n",
      "[CV]  max_features=12, n_estimators=35, score=(train=-5.053, test=-33.672), total=   0.3s\n",
      "[CV] max_features=12, n_estimators=35 ................................\n",
      "[CV]  max_features=12, n_estimators=35, score=(train=-5.041, test=-38.027), total=   0.3s\n",
      "[CV] max_features=12, n_estimators=35 ................................\n",
      "[CV]  max_features=12, n_estimators=35, score=(train=-4.994, test=-40.322), total=   0.3s\n",
      "[CV] max_features=12, n_estimators=35 ................................\n",
      "[CV]  max_features=12, n_estimators=35, score=(train=-5.323, test=-29.407), total=   0.3s\n",
      "[CV] max_features=12, n_estimators=35 ................................\n",
      "[CV]  max_features=12, n_estimators=35, score=(train=-5.109, test=-32.165), total=   0.3s\n",
      "[CV] max_features=15, n_estimators=10 ................................\n",
      "[CV]  max_features=15, n_estimators=10, score=(train=-6.598, test=-32.483), total=   0.1s\n",
      "[CV] max_features=15, n_estimators=10 ................................\n",
      "[CV]  max_features=15, n_estimators=10, score=(train=-5.796, test=-39.969), total=   0.1s\n",
      "[CV] max_features=15, n_estimators=10 ................................\n",
      "[CV]  max_features=15, n_estimators=10, score=(train=-6.045, test=-42.348), total=   0.1s\n",
      "[CV] max_features=15, n_estimators=10 ................................\n",
      "[CV]  max_features=15, n_estimators=10, score=(train=-6.197, test=-31.989), total=   0.1s\n",
      "[CV] max_features=15, n_estimators=10 ................................\n",
      "[CV]  max_features=15, n_estimators=10, score=(train=-5.741, test=-31.268), total=   0.1s\n",
      "[CV] max_features=15, n_estimators=15 ................................\n",
      "[CV]  max_features=15, n_estimators=15, score=(train=-5.651, test=-34.166), total=   0.2s\n",
      "[CV] max_features=15, n_estimators=15 ................................\n",
      "[CV]  max_features=15, n_estimators=15, score=(train=-5.393, test=-41.778), total=   0.2s\n",
      "[CV] max_features=15, n_estimators=15 ................................\n",
      "[CV]  max_features=15, n_estimators=15, score=(train=-5.619, test=-39.600), total=   0.2s\n",
      "[CV] max_features=15, n_estimators=15 ................................\n",
      "[CV]  max_features=15, n_estimators=15, score=(train=-5.977, test=-30.642), total=   0.2s\n",
      "[CV] max_features=15, n_estimators=15 ................................\n",
      "[CV]  max_features=15, n_estimators=15, score=(train=-6.057, test=-30.693), total=   0.1s\n",
      "[CV] max_features=15, n_estimators=20 ................................\n",
      "[CV]  max_features=15, n_estimators=20, score=(train=-5.661, test=-34.364), total=   0.2s\n",
      "[CV] max_features=15, n_estimators=20 ................................\n",
      "[CV]  max_features=15, n_estimators=20, score=(train=-5.021, test=-39.918), total=   0.2s\n",
      "[CV] max_features=15, n_estimators=20 ................................\n",
      "[CV]  max_features=15, n_estimators=20, score=(train=-4.844, test=-40.999), total=   0.2s\n",
      "[CV] max_features=15, n_estimators=20 ................................\n",
      "[CV]  max_features=15, n_estimators=20, score=(train=-5.873, test=-28.948), total=   0.2s\n",
      "[CV] max_features=15, n_estimators=20 ................................\n",
      "[CV]  max_features=15, n_estimators=20, score=(train=-5.354, test=-31.427), total=   0.2s\n",
      "[CV] max_features=15, n_estimators=25 ................................\n",
      "[CV]  max_features=15, n_estimators=25, score=(train=-5.121, test=-33.650), total=   0.2s\n",
      "[CV] max_features=15, n_estimators=25 ................................\n",
      "[CV]  max_features=15, n_estimators=25, score=(train=-4.838, test=-40.104), total=   0.3s\n",
      "[CV] max_features=15, n_estimators=25 ................................\n",
      "[CV]  max_features=15, n_estimators=25, score=(train=-5.390, test=-39.365), total=   0.2s\n",
      "[CV] max_features=15, n_estimators=25 ................................\n",
      "[CV]  max_features=15, n_estimators=25, score=(train=-5.423, test=-29.368), total=   0.3s\n",
      "[CV] max_features=15, n_estimators=25 ................................\n",
      "[CV]  max_features=15, n_estimators=25, score=(train=-5.381, test=-31.794), total=   0.2s\n",
      "[CV] max_features=15, n_estimators=30 ................................\n",
      "[CV]  max_features=15, n_estimators=30, score=(train=-5.103, test=-33.130), total=   0.3s\n",
      "[CV] max_features=15, n_estimators=30 ................................\n",
      "[CV]  max_features=15, n_estimators=30, score=(train=-4.964, test=-39.743), total=   0.3s\n",
      "[CV] max_features=15, n_estimators=30 ................................\n",
      "[CV]  max_features=15, n_estimators=30, score=(train=-4.861, test=-41.452), total=   0.3s\n",
      "[CV] max_features=15, n_estimators=30 ................................\n",
      "[CV]  max_features=15, n_estimators=30, score=(train=-5.402, test=-29.536), total=   0.3s\n",
      "[CV] max_features=15, n_estimators=30 ................................\n",
      "[CV]  max_features=15, n_estimators=30, score=(train=-5.306, test=-32.887), total=   0.3s\n",
      "[CV] max_features=15, n_estimators=35 ................................\n",
      "[CV]  max_features=15, n_estimators=35, score=(train=-4.950, test=-33.357), total=   0.3s\n",
      "[CV] max_features=15, n_estimators=35 ................................\n",
      "[CV]  max_features=15, n_estimators=35, score=(train=-4.738, test=-39.457), total=   0.4s\n",
      "[CV] max_features=15, n_estimators=35 ................................\n",
      "[CV]  max_features=15, n_estimators=35, score=(train=-4.985, test=-38.068), total=   0.4s\n",
      "[CV] max_features=15, n_estimators=35 ................................\n",
      "[CV]  max_features=15, n_estimators=35, score=(train=-5.225, test=-29.602), total=   0.4s\n",
      "[CV] max_features=15, n_estimators=35 ................................\n",
      "[CV]  max_features=15, n_estimators=35, score=(train=-4.835, test=-30.838), total=   0.4s\n",
      "[CV] max_features=18, n_estimators=10 ................................\n",
      "[CV]  max_features=18, n_estimators=10, score=(train=-5.804, test=-35.521), total=   0.2s\n",
      "[CV] max_features=18, n_estimators=10 ................................\n",
      "[CV]  max_features=18, n_estimators=10, score=(train=-6.037, test=-39.751), total=   0.1s\n",
      "[CV] max_features=18, n_estimators=10 ................................\n",
      "[CV]  max_features=18, n_estimators=10, score=(train=-5.773, test=-42.007), total=   0.1s\n",
      "[CV] max_features=18, n_estimators=10 ................................\n",
      "[CV]  max_features=18, n_estimators=10, score=(train=-6.426, test=-30.281), total=   0.1s\n",
      "[CV] max_features=18, n_estimators=10 ................................\n",
      "[CV]  max_features=18, n_estimators=10, score=(train=-6.308, test=-32.185), total=   0.1s\n",
      "[CV] max_features=18, n_estimators=15 ................................\n",
      "[CV]  max_features=18, n_estimators=15, score=(train=-5.783, test=-34.137), total=   0.3s\n",
      "[CV] max_features=18, n_estimators=15 ................................\n",
      "[CV]  max_features=18, n_estimators=15, score=(train=-5.299, test=-39.273), total=   0.2s\n",
      "[CV] max_features=18, n_estimators=15 ................................\n",
      "[CV]  max_features=18, n_estimators=15, score=(train=-5.967, test=-39.741), total=   0.2s\n",
      "[CV] max_features=18, n_estimators=15 ................................\n",
      "[CV]  max_features=18, n_estimators=15, score=(train=-6.079, test=-29.821), total=   0.2s\n",
      "[CV] max_features=18, n_estimators=15 ................................\n",
      "[CV]  max_features=18, n_estimators=15, score=(train=-5.409, test=-32.138), total=   0.2s\n",
      "[CV] max_features=18, n_estimators=20 ................................\n",
      "[CV]  max_features=18, n_estimators=20, score=(train=-5.128, test=-31.654), total=   0.2s\n",
      "[CV] max_features=18, n_estimators=20 ................................\n",
      "[CV]  max_features=18, n_estimators=20, score=(train=-5.577, test=-38.186), total=   0.2s\n",
      "[CV] max_features=18, n_estimators=20 ................................\n",
      "[CV]  max_features=18, n_estimators=20, score=(train=-5.355, test=-36.967), total=   0.2s\n",
      "[CV] max_features=18, n_estimators=20 ................................\n",
      "[CV]  max_features=18, n_estimators=20, score=(train=-5.677, test=-27.807), total=   0.2s\n",
      "[CV] max_features=18, n_estimators=20 ................................\n"
     ]
    },
    {
     "name": "stdout",
     "output_type": "stream",
     "text": [
      "[CV]  max_features=18, n_estimators=20, score=(train=-5.385, test=-31.058), total=   0.2s\n",
      "[CV] max_features=18, n_estimators=25 ................................\n",
      "[CV]  max_features=18, n_estimators=25, score=(train=-5.111, test=-33.466), total=   0.3s\n",
      "[CV] max_features=18, n_estimators=25 ................................\n",
      "[CV]  max_features=18, n_estimators=25, score=(train=-5.040, test=-39.440), total=   0.3s\n",
      "[CV] max_features=18, n_estimators=25 ................................\n",
      "[CV]  max_features=18, n_estimators=25, score=(train=-4.808, test=-38.921), total=   0.3s\n",
      "[CV] max_features=18, n_estimators=25 ................................\n",
      "[CV]  max_features=18, n_estimators=25, score=(train=-5.326, test=-29.163), total=   0.3s\n",
      "[CV] max_features=18, n_estimators=25 ................................\n",
      "[CV]  max_features=18, n_estimators=25, score=(train=-5.250, test=-30.317), total=   0.3s\n",
      "[CV] max_features=18, n_estimators=30 ................................\n",
      "[CV]  max_features=18, n_estimators=30, score=(train=-5.170, test=-33.256), total=   0.4s\n",
      "[CV] max_features=18, n_estimators=30 ................................\n",
      "[CV]  max_features=18, n_estimators=30, score=(train=-4.943, test=-39.777), total=   0.3s\n",
      "[CV] max_features=18, n_estimators=30 ................................\n",
      "[CV]  max_features=18, n_estimators=30, score=(train=-5.013, test=-37.705), total=   0.3s\n",
      "[CV] max_features=18, n_estimators=30 ................................\n",
      "[CV]  max_features=18, n_estimators=30, score=(train=-5.897, test=-29.844), total=   0.3s\n",
      "[CV] max_features=18, n_estimators=30 ................................\n",
      "[CV]  max_features=18, n_estimators=30, score=(train=-5.088, test=-31.343), total=   0.3s\n",
      "[CV] max_features=18, n_estimators=35 ................................\n",
      "[CV]  max_features=18, n_estimators=35, score=(train=-5.041, test=-33.233), total=   0.4s\n",
      "[CV] max_features=18, n_estimators=35 ................................\n",
      "[CV]  max_features=18, n_estimators=35, score=(train=-4.716, test=-39.199), total=   0.4s\n",
      "[CV] max_features=18, n_estimators=35 ................................\n",
      "[CV]  max_features=18, n_estimators=35, score=(train=-5.286, test=-40.392), total=   0.4s\n",
      "[CV] max_features=18, n_estimators=35 ................................\n",
      "[CV]  max_features=18, n_estimators=35, score=(train=-5.139, test=-29.822), total=   0.4s\n",
      "[CV] max_features=18, n_estimators=35 ................................\n",
      "[CV]  max_features=18, n_estimators=35, score=(train=-4.930, test=-32.391), total=   0.4s\n",
      "[CV] bootstrap=False, max_features=3, n_estimators=20 ................\n",
      "[CV]  bootstrap=False, max_features=3, n_estimators=20, score=(train=-0.000, test=-41.337), total=   0.1s\n",
      "[CV] bootstrap=False, max_features=3, n_estimators=20 ................\n",
      "[CV]  bootstrap=False, max_features=3, n_estimators=20, score=(train=-0.000, test=-54.301), total=   0.1s\n",
      "[CV] bootstrap=False, max_features=3, n_estimators=20 ................\n",
      "[CV]  bootstrap=False, max_features=3, n_estimators=20, score=(train=-0.000, test=-52.453), total=   0.1s\n",
      "[CV] bootstrap=False, max_features=3, n_estimators=20 ................\n",
      "[CV]  bootstrap=False, max_features=3, n_estimators=20, score=(train=-0.000, test=-37.823), total=   0.1s\n",
      "[CV] bootstrap=False, max_features=3, n_estimators=20 ................\n",
      "[CV]  bootstrap=False, max_features=3, n_estimators=20, score=(train=-0.000, test=-41.379), total=   0.1s\n",
      "[CV] bootstrap=False, max_features=3, n_estimators=25 ................\n",
      "[CV]  bootstrap=False, max_features=3, n_estimators=25, score=(train=-0.000, test=-39.193), total=   0.2s\n",
      "[CV] bootstrap=False, max_features=3, n_estimators=25 ................\n",
      "[CV]  bootstrap=False, max_features=3, n_estimators=25, score=(train=-0.000, test=-52.219), total=   0.2s\n",
      "[CV] bootstrap=False, max_features=3, n_estimators=25 ................\n",
      "[CV]  bootstrap=False, max_features=3, n_estimators=25, score=(train=-0.000, test=-52.654), total=   0.1s\n",
      "[CV] bootstrap=False, max_features=3, n_estimators=25 ................\n",
      "[CV]  bootstrap=False, max_features=3, n_estimators=25, score=(train=-0.000, test=-36.587), total=   0.2s\n",
      "[CV] bootstrap=False, max_features=3, n_estimators=25 ................\n",
      "[CV]  bootstrap=False, max_features=3, n_estimators=25, score=(train=-0.000, test=-40.027), total=   0.2s\n",
      "[CV] bootstrap=False, max_features=3, n_estimators=30 ................\n",
      "[CV]  bootstrap=False, max_features=3, n_estimators=30, score=(train=-0.000, test=-39.970), total=   0.2s\n",
      "[CV] bootstrap=False, max_features=3, n_estimators=30 ................\n",
      "[CV]  bootstrap=False, max_features=3, n_estimators=30, score=(train=-0.000, test=-53.201), total=   0.2s\n",
      "[CV] bootstrap=False, max_features=3, n_estimators=30 ................\n",
      "[CV]  bootstrap=False, max_features=3, n_estimators=30, score=(train=-0.000, test=-53.203), total=   0.2s\n",
      "[CV] bootstrap=False, max_features=3, n_estimators=30 ................\n",
      "[CV]  bootstrap=False, max_features=3, n_estimators=30, score=(train=-0.000, test=-36.800), total=   0.2s\n",
      "[CV] bootstrap=False, max_features=3, n_estimators=30 ................\n",
      "[CV]  bootstrap=False, max_features=3, n_estimators=30, score=(train=-0.000, test=-39.847), total=   0.2s\n",
      "[CV] bootstrap=False, max_features=3, n_estimators=35 ................\n",
      "[CV]  bootstrap=False, max_features=3, n_estimators=35, score=(train=-0.000, test=-41.116), total=   0.2s\n",
      "[CV] bootstrap=False, max_features=3, n_estimators=35 ................\n",
      "[CV]  bootstrap=False, max_features=3, n_estimators=35, score=(train=-0.000, test=-52.038), total=   0.2s\n",
      "[CV] bootstrap=False, max_features=3, n_estimators=35 ................\n",
      "[CV]  bootstrap=False, max_features=3, n_estimators=35, score=(train=-0.000, test=-51.315), total=   0.2s\n",
      "[CV] bootstrap=False, max_features=3, n_estimators=35 ................\n",
      "[CV]  bootstrap=False, max_features=3, n_estimators=35, score=(train=-0.000, test=-37.364), total=   0.2s\n",
      "[CV] bootstrap=False, max_features=3, n_estimators=35 ................\n",
      "[CV]  bootstrap=False, max_features=3, n_estimators=35, score=(train=-0.001, test=-39.084), total=   0.2s\n",
      "[CV] bootstrap=False, max_features=6, n_estimators=20 ................\n",
      "[CV]  bootstrap=False, max_features=6, n_estimators=20, score=(train=-0.000, test=-37.114), total=   0.2s\n",
      "[CV] bootstrap=False, max_features=6, n_estimators=20 ................\n",
      "[CV]  bootstrap=False, max_features=6, n_estimators=20, score=(train=-0.000, test=-51.740), total=   0.2s\n",
      "[CV] bootstrap=False, max_features=6, n_estimators=20 ................\n",
      "[CV]  bootstrap=False, max_features=6, n_estimators=20, score=(train=-0.000, test=-50.873), total=   0.2s\n",
      "[CV] bootstrap=False, max_features=6, n_estimators=20 ................\n",
      "[CV]  bootstrap=False, max_features=6, n_estimators=20, score=(train=-0.000, test=-34.789), total=   0.2s\n",
      "[CV] bootstrap=False, max_features=6, n_estimators=20 ................\n",
      "[CV]  bootstrap=False, max_features=6, n_estimators=20, score=(train=-0.000, test=-38.632), total=   0.1s\n",
      "[CV] bootstrap=False, max_features=6, n_estimators=25 ................\n",
      "[CV]  bootstrap=False, max_features=6, n_estimators=25, score=(train=-0.000, test=-39.234), total=   0.2s\n",
      "[CV] bootstrap=False, max_features=6, n_estimators=25 ................\n",
      "[CV]  bootstrap=False, max_features=6, n_estimators=25, score=(train=-0.000, test=-51.118), total=   0.2s\n",
      "[CV] bootstrap=False, max_features=6, n_estimators=25 ................\n",
      "[CV]  bootstrap=False, max_features=6, n_estimators=25, score=(train=-0.000, test=-51.415), total=   0.2s\n",
      "[CV] bootstrap=False, max_features=6, n_estimators=25 ................\n",
      "[CV]  bootstrap=False, max_features=6, n_estimators=25, score=(train=-0.000, test=-36.322), total=   0.2s\n",
      "[CV] bootstrap=False, max_features=6, n_estimators=25 ................\n",
      "[CV]  bootstrap=False, max_features=6, n_estimators=25, score=(train=-0.000, test=-36.589), total=   0.2s\n",
      "[CV] bootstrap=False, max_features=6, n_estimators=30 ................\n",
      "[CV]  bootstrap=False, max_features=6, n_estimators=30, score=(train=-0.000, test=-39.906), total=   0.2s\n",
      "[CV] bootstrap=False, max_features=6, n_estimators=30 ................\n",
      "[CV]  bootstrap=False, max_features=6, n_estimators=30, score=(train=-0.000, test=-49.278), total=   0.2s\n",
      "[CV] bootstrap=False, max_features=6, n_estimators=30 ................\n"
     ]
    },
    {
     "name": "stdout",
     "output_type": "stream",
     "text": [
      "[CV]  bootstrap=False, max_features=6, n_estimators=30, score=(train=-0.000, test=-51.356), total=   0.2s\n",
      "[CV] bootstrap=False, max_features=6, n_estimators=30 ................\n",
      "[CV]  bootstrap=False, max_features=6, n_estimators=30, score=(train=-0.000, test=-35.120), total=   0.2s\n",
      "[CV] bootstrap=False, max_features=6, n_estimators=30 ................\n",
      "[CV]  bootstrap=False, max_features=6, n_estimators=30, score=(train=-0.000, test=-38.110), total=   0.2s\n",
      "[CV] bootstrap=False, max_features=6, n_estimators=35 ................\n",
      "[CV]  bootstrap=False, max_features=6, n_estimators=35, score=(train=-0.003, test=-38.429), total=   0.3s\n",
      "[CV] bootstrap=False, max_features=6, n_estimators=35 ................\n",
      "[CV]  bootstrap=False, max_features=6, n_estimators=35, score=(train=-0.000, test=-52.734), total=   0.3s\n",
      "[CV] bootstrap=False, max_features=6, n_estimators=35 ................\n",
      "[CV]  bootstrap=False, max_features=6, n_estimators=35, score=(train=-0.000, test=-50.666), total=   0.3s\n",
      "[CV] bootstrap=False, max_features=6, n_estimators=35 ................\n",
      "[CV]  bootstrap=False, max_features=6, n_estimators=35, score=(train=-0.000, test=-34.760), total=   0.3s\n",
      "[CV] bootstrap=False, max_features=6, n_estimators=35 ................\n",
      "[CV]  bootstrap=False, max_features=6, n_estimators=35, score=(train=-0.000, test=-36.883), total=   0.3s\n",
      "[CV] bootstrap=False, max_features=9, n_estimators=20 ................\n",
      "[CV]  bootstrap=False, max_features=9, n_estimators=20, score=(train=-0.000, test=-35.654), total=   0.2s\n",
      "[CV] bootstrap=False, max_features=9, n_estimators=20 ................\n",
      "[CV]  bootstrap=False, max_features=9, n_estimators=20, score=(train=-0.000, test=-49.477), total=   0.2s\n",
      "[CV] bootstrap=False, max_features=9, n_estimators=20 ................\n",
      "[CV]  bootstrap=False, max_features=9, n_estimators=20, score=(train=-0.000, test=-50.616), total=   0.2s\n",
      "[CV] bootstrap=False, max_features=9, n_estimators=20 ................\n",
      "[CV]  bootstrap=False, max_features=9, n_estimators=20, score=(train=-0.000, test=-34.288), total=   0.2s\n",
      "[CV] bootstrap=False, max_features=9, n_estimators=20 ................\n",
      "[CV]  bootstrap=False, max_features=9, n_estimators=20, score=(train=-0.000, test=-36.120), total=   0.2s\n",
      "[CV] bootstrap=False, max_features=9, n_estimators=25 ................\n",
      "[CV]  bootstrap=False, max_features=9, n_estimators=25, score=(train=-0.000, test=-38.967), total=   0.2s\n",
      "[CV] bootstrap=False, max_features=9, n_estimators=25 ................\n",
      "[CV]  bootstrap=False, max_features=9, n_estimators=25, score=(train=-0.000, test=-49.606), total=   0.3s\n",
      "[CV] bootstrap=False, max_features=9, n_estimators=25 ................\n",
      "[CV]  bootstrap=False, max_features=9, n_estimators=25, score=(train=-0.000, test=-49.298), total=   0.3s\n",
      "[CV] bootstrap=False, max_features=9, n_estimators=25 ................\n",
      "[CV]  bootstrap=False, max_features=9, n_estimators=25, score=(train=-0.000, test=-34.043), total=   0.3s\n",
      "[CV] bootstrap=False, max_features=9, n_estimators=25 ................\n",
      "[CV]  bootstrap=False, max_features=9, n_estimators=25, score=(train=-0.000, test=-35.862), total=   0.3s\n",
      "[CV] bootstrap=False, max_features=9, n_estimators=30 ................\n",
      "[CV]  bootstrap=False, max_features=9, n_estimators=30, score=(train=-0.000, test=-38.617), total=   0.3s\n",
      "[CV] bootstrap=False, max_features=9, n_estimators=30 ................\n",
      "[CV]  bootstrap=False, max_features=9, n_estimators=30, score=(train=-0.000, test=-46.504), total=   0.4s\n",
      "[CV] bootstrap=False, max_features=9, n_estimators=30 ................\n",
      "[CV]  bootstrap=False, max_features=9, n_estimators=30, score=(train=-0.000, test=-49.688), total=   0.3s\n",
      "[CV] bootstrap=False, max_features=9, n_estimators=30 ................\n",
      "[CV]  bootstrap=False, max_features=9, n_estimators=30, score=(train=-0.000, test=-34.129), total=   0.3s\n",
      "[CV] bootstrap=False, max_features=9, n_estimators=30 ................\n",
      "[CV]  bootstrap=False, max_features=9, n_estimators=30, score=(train=-0.000, test=-36.538), total=   0.4s\n",
      "[CV] bootstrap=False, max_features=9, n_estimators=35 ................\n",
      "[CV]  bootstrap=False, max_features=9, n_estimators=35, score=(train=-0.000, test=-36.188), total=   0.4s\n",
      "[CV] bootstrap=False, max_features=9, n_estimators=35 ................\n",
      "[CV]  bootstrap=False, max_features=9, n_estimators=35, score=(train=-0.000, test=-47.376), total=   0.4s\n",
      "[CV] bootstrap=False, max_features=9, n_estimators=35 ................\n",
      "[CV]  bootstrap=False, max_features=9, n_estimators=35, score=(train=-0.000, test=-49.250), total=   0.3s\n",
      "[CV] bootstrap=False, max_features=9, n_estimators=35 ................\n",
      "[CV]  bootstrap=False, max_features=9, n_estimators=35, score=(train=-0.000, test=-33.868), total=   0.3s\n",
      "[CV] bootstrap=False, max_features=9, n_estimators=35 ................\n",
      "[CV]  bootstrap=False, max_features=9, n_estimators=35, score=(train=-0.000, test=-35.885), total=   0.3s\n",
      "[CV] bootstrap=False, max_features=12, n_estimators=20 ...............\n",
      "[CV]  bootstrap=False, max_features=12, n_estimators=20, score=(train=-0.000, test=-38.941), total=   0.3s\n",
      "[CV] bootstrap=False, max_features=12, n_estimators=20 ...............\n",
      "[CV]  bootstrap=False, max_features=12, n_estimators=20, score=(train=-0.000, test=-46.676), total=   0.2s\n",
      "[CV] bootstrap=False, max_features=12, n_estimators=20 ...............\n",
      "[CV]  bootstrap=False, max_features=12, n_estimators=20, score=(train=-0.000, test=-51.125), total=   0.2s\n",
      "[CV] bootstrap=False, max_features=12, n_estimators=20 ...............\n",
      "[CV]  bootstrap=False, max_features=12, n_estimators=20, score=(train=-0.000, test=-33.987), total=   0.2s\n",
      "[CV] bootstrap=False, max_features=12, n_estimators=20 ...............\n",
      "[CV]  bootstrap=False, max_features=12, n_estimators=20, score=(train=-0.000, test=-35.786), total=   0.3s\n",
      "[CV] bootstrap=False, max_features=12, n_estimators=25 ...............\n",
      "[CV]  bootstrap=False, max_features=12, n_estimators=25, score=(train=-0.000, test=-38.132), total=   0.3s\n",
      "[CV] bootstrap=False, max_features=12, n_estimators=25 ...............\n",
      "[CV]  bootstrap=False, max_features=12, n_estimators=25, score=(train=-0.000, test=-47.490), total=   0.3s\n",
      "[CV] bootstrap=False, max_features=12, n_estimators=25 ...............\n",
      "[CV]  bootstrap=False, max_features=12, n_estimators=25, score=(train=-0.000, test=-48.855), total=   0.3s\n",
      "[CV] bootstrap=False, max_features=12, n_estimators=25 ...............\n",
      "[CV]  bootstrap=False, max_features=12, n_estimators=25, score=(train=-0.000, test=-32.895), total=   0.3s\n",
      "[CV] bootstrap=False, max_features=12, n_estimators=25 ...............\n",
      "[CV]  bootstrap=False, max_features=12, n_estimators=25, score=(train=-0.000, test=-36.675), total=   0.3s\n",
      "[CV] bootstrap=False, max_features=12, n_estimators=30 ...............\n",
      "[CV]  bootstrap=False, max_features=12, n_estimators=30, score=(train=-0.000, test=-38.521), total=   0.3s\n",
      "[CV] bootstrap=False, max_features=12, n_estimators=30 ...............\n",
      "[CV]  bootstrap=False, max_features=12, n_estimators=30, score=(train=-0.000, test=-47.630), total=   0.4s\n",
      "[CV] bootstrap=False, max_features=12, n_estimators=30 ...............\n",
      "[CV]  bootstrap=False, max_features=12, n_estimators=30, score=(train=-0.000, test=-49.941), total=   0.4s\n",
      "[CV] bootstrap=False, max_features=12, n_estimators=30 ...............\n",
      "[CV]  bootstrap=False, max_features=12, n_estimators=30, score=(train=-0.000, test=-34.120), total=   0.3s\n",
      "[CV] bootstrap=False, max_features=12, n_estimators=30 ...............\n",
      "[CV]  bootstrap=False, max_features=12, n_estimators=30, score=(train=-0.000, test=-36.923), total=   0.3s\n",
      "[CV] bootstrap=False, max_features=12, n_estimators=35 ...............\n",
      "[CV]  bootstrap=False, max_features=12, n_estimators=35, score=(train=-0.000, test=-37.983), total=   0.4s\n",
      "[CV] bootstrap=False, max_features=12, n_estimators=35 ...............\n",
      "[CV]  bootstrap=False, max_features=12, n_estimators=35, score=(train=-0.000, test=-46.552), total=   0.4s\n",
      "[CV] bootstrap=False, max_features=12, n_estimators=35 ...............\n",
      "[CV]  bootstrap=False, max_features=12, n_estimators=35, score=(train=-0.000, test=-49.495), total=   0.4s\n",
      "[CV] bootstrap=False, max_features=12, n_estimators=35 ...............\n",
      "[CV]  bootstrap=False, max_features=12, n_estimators=35, score=(train=-0.000, test=-33.462), total=   0.4s\n",
      "[CV] bootstrap=False, max_features=12, n_estimators=35 ...............\n"
     ]
    },
    {
     "name": "stdout",
     "output_type": "stream",
     "text": [
      "[CV]  bootstrap=False, max_features=12, n_estimators=35, score=(train=-0.000, test=-35.479), total=   0.4s\n",
      "[CV] bootstrap=False, max_features=15, n_estimators=20 ...............\n",
      "[CV]  bootstrap=False, max_features=15, n_estimators=20, score=(train=-0.000, test=-37.663), total=   0.3s\n",
      "[CV] bootstrap=False, max_features=15, n_estimators=20 ...............\n",
      "[CV]  bootstrap=False, max_features=15, n_estimators=20, score=(train=-0.000, test=-45.466), total=   0.3s\n",
      "[CV] bootstrap=False, max_features=15, n_estimators=20 ...............\n",
      "[CV]  bootstrap=False, max_features=15, n_estimators=20, score=(train=-0.000, test=-50.289), total=   0.3s\n",
      "[CV] bootstrap=False, max_features=15, n_estimators=20 ...............\n",
      "[CV]  bootstrap=False, max_features=15, n_estimators=20, score=(train=-0.000, test=-33.335), total=   0.3s\n",
      "[CV] bootstrap=False, max_features=15, n_estimators=20 ...............\n",
      "[CV]  bootstrap=False, max_features=15, n_estimators=20, score=(train=-0.000, test=-36.197), total=   0.3s\n",
      "[CV] bootstrap=False, max_features=15, n_estimators=25 ...............\n",
      "[CV]  bootstrap=False, max_features=15, n_estimators=25, score=(train=-0.000, test=-38.441), total=   0.4s\n",
      "[CV] bootstrap=False, max_features=15, n_estimators=25 ...............\n",
      "[CV]  bootstrap=False, max_features=15, n_estimators=25, score=(train=-0.000, test=-44.791), total=   0.2s\n",
      "[CV] bootstrap=False, max_features=15, n_estimators=25 ...............\n",
      "[CV]  bootstrap=False, max_features=15, n_estimators=25, score=(train=-0.000, test=-49.892), total=   0.4s\n",
      "[CV] bootstrap=False, max_features=15, n_estimators=25 ...............\n",
      "[CV]  bootstrap=False, max_features=15, n_estimators=25, score=(train=-0.000, test=-32.988), total=   0.4s\n",
      "[CV] bootstrap=False, max_features=15, n_estimators=25 ...............\n",
      "[CV]  bootstrap=False, max_features=15, n_estimators=25, score=(train=-0.000, test=-36.246), total=   0.4s\n",
      "[CV] bootstrap=False, max_features=15, n_estimators=30 ...............\n",
      "[CV]  bootstrap=False, max_features=15, n_estimators=30, score=(train=-0.000, test=-38.733), total=   0.4s\n",
      "[CV] bootstrap=False, max_features=15, n_estimators=30 ...............\n",
      "[CV]  bootstrap=False, max_features=15, n_estimators=30, score=(train=-0.000, test=-45.799), total=   0.4s\n",
      "[CV] bootstrap=False, max_features=15, n_estimators=30 ...............\n",
      "[CV]  bootstrap=False, max_features=15, n_estimators=30, score=(train=-0.000, test=-50.507), total=   0.4s\n",
      "[CV] bootstrap=False, max_features=15, n_estimators=30 ...............\n",
      "[CV]  bootstrap=False, max_features=15, n_estimators=30, score=(train=-0.000, test=-33.040), total=   0.4s\n",
      "[CV] bootstrap=False, max_features=15, n_estimators=30 ...............\n",
      "[CV]  bootstrap=False, max_features=15, n_estimators=30, score=(train=-0.000, test=-35.573), total=   0.4s\n",
      "[CV] bootstrap=False, max_features=15, n_estimators=35 ...............\n",
      "[CV]  bootstrap=False, max_features=15, n_estimators=35, score=(train=-0.000, test=-36.096), total=   0.5s\n",
      "[CV] bootstrap=False, max_features=15, n_estimators=35 ...............\n",
      "[CV]  bootstrap=False, max_features=15, n_estimators=35, score=(train=-0.000, test=-43.920), total=   0.5s\n",
      "[CV] bootstrap=False, max_features=15, n_estimators=35 ...............\n",
      "[CV]  bootstrap=False, max_features=15, n_estimators=35, score=(train=-0.000, test=-49.144), total=   0.5s\n",
      "[CV] bootstrap=False, max_features=15, n_estimators=35 ...............\n",
      "[CV]  bootstrap=False, max_features=15, n_estimators=35, score=(train=-0.000, test=-32.481), total=   0.5s\n",
      "[CV] bootstrap=False, max_features=15, n_estimators=35 ...............\n",
      "[CV]  bootstrap=False, max_features=15, n_estimators=35, score=(train=-0.000, test=-36.772), total=   0.4s\n",
      "[CV] bootstrap=False, max_features=18, n_estimators=20 ...............\n",
      "[CV]  bootstrap=False, max_features=18, n_estimators=20, score=(train=-0.000, test=-37.091), total=   0.3s\n",
      "[CV] bootstrap=False, max_features=18, n_estimators=20 ...............\n",
      "[CV]  bootstrap=False, max_features=18, n_estimators=20, score=(train=-0.000, test=-46.417), total=   0.3s\n",
      "[CV] bootstrap=False, max_features=18, n_estimators=20 ...............\n",
      "[CV]  bootstrap=False, max_features=18, n_estimators=20, score=(train=-0.000, test=-48.332), total=   0.3s\n",
      "[CV] bootstrap=False, max_features=18, n_estimators=20 ...............\n",
      "[CV]  bootstrap=False, max_features=18, n_estimators=20, score=(train=-0.000, test=-34.157), total=   0.3s\n",
      "[CV] bootstrap=False, max_features=18, n_estimators=20 ...............\n",
      "[CV]  bootstrap=False, max_features=18, n_estimators=20, score=(train=-0.000, test=-36.121), total=   0.3s\n",
      "[CV] bootstrap=False, max_features=18, n_estimators=25 ...............\n",
      "[CV]  bootstrap=False, max_features=18, n_estimators=25, score=(train=-0.000, test=-37.822), total=   0.4s\n",
      "[CV] bootstrap=False, max_features=18, n_estimators=25 ...............\n",
      "[CV]  bootstrap=False, max_features=18, n_estimators=25, score=(train=-0.000, test=-43.887), total=   0.4s\n",
      "[CV] bootstrap=False, max_features=18, n_estimators=25 ...............\n",
      "[CV]  bootstrap=False, max_features=18, n_estimators=25, score=(train=-0.000, test=-50.007), total=   0.4s\n",
      "[CV] bootstrap=False, max_features=18, n_estimators=25 ...............\n",
      "[CV]  bootstrap=False, max_features=18, n_estimators=25, score=(train=-0.000, test=-32.713), total=   0.4s\n",
      "[CV] bootstrap=False, max_features=18, n_estimators=25 ...............\n",
      "[CV]  bootstrap=False, max_features=18, n_estimators=25, score=(train=-0.000, test=-36.248), total=   0.4s\n",
      "[CV] bootstrap=False, max_features=18, n_estimators=30 ...............\n",
      "[CV]  bootstrap=False, max_features=18, n_estimators=30, score=(train=-0.000, test=-36.435), total=   0.5s\n",
      "[CV] bootstrap=False, max_features=18, n_estimators=30 ...............\n",
      "[CV]  bootstrap=False, max_features=18, n_estimators=30, score=(train=-0.000, test=-46.404), total=   0.5s\n",
      "[CV] bootstrap=False, max_features=18, n_estimators=30 ...............\n",
      "[CV]  bootstrap=False, max_features=18, n_estimators=30, score=(train=-0.000, test=-48.047), total=   0.5s\n",
      "[CV] bootstrap=False, max_features=18, n_estimators=30 ...............\n",
      "[CV]  bootstrap=False, max_features=18, n_estimators=30, score=(train=-0.000, test=-31.532), total=   0.5s\n",
      "[CV] bootstrap=False, max_features=18, n_estimators=30 ...............\n",
      "[CV]  bootstrap=False, max_features=18, n_estimators=30, score=(train=-0.000, test=-35.378), total=   0.5s\n",
      "[CV] bootstrap=False, max_features=18, n_estimators=35 ...............\n",
      "[CV]  bootstrap=False, max_features=18, n_estimators=35, score=(train=-0.000, test=-37.993), total=   0.5s\n",
      "[CV] bootstrap=False, max_features=18, n_estimators=35 ...............\n",
      "[CV]  bootstrap=False, max_features=18, n_estimators=35, score=(train=-0.000, test=-44.667), total=   0.6s\n",
      "[CV] bootstrap=False, max_features=18, n_estimators=35 ...............\n",
      "[CV]  bootstrap=False, max_features=18, n_estimators=35, score=(train=-0.000, test=-49.467), total=   0.5s\n",
      "[CV] bootstrap=False, max_features=18, n_estimators=35 ...............\n",
      "[CV]  bootstrap=False, max_features=18, n_estimators=35, score=(train=-0.000, test=-32.392), total=   0.6s\n",
      "[CV] bootstrap=False, max_features=18, n_estimators=35 ...............\n",
      "[CV]  bootstrap=False, max_features=18, n_estimators=35, score=(train=-0.000, test=-34.535), total=   0.6s\n"
     ]
    },
    {
     "name": "stderr",
     "output_type": "stream",
     "text": [
      "[Parallel(n_jobs=1)]: Done 300 out of 300 | elapsed:  1.2min finished\n"
     ]
    },
    {
     "data": {
      "text/plain": [
       "GridSearchCV(cv=5, estimator=RandomForestRegressor(n_estimators=27),\n",
       "             param_grid=[{'max_features': [3, 6, 9, 12, 15, 18],\n",
       "                          'n_estimators': [10, 15, 20, 25, 30, 35]},\n",
       "                         {'bootstrap': [False],\n",
       "                          'max_features': [3, 6, 9, 12, 15, 18],\n",
       "                          'n_estimators': [20, 25, 30, 35]}],\n",
       "             return_train_score=True, scoring='neg_mean_squared_error',\n",
       "             verbose=10)"
      ]
     },
     "execution_count": 78,
     "metadata": {},
     "output_type": "execute_result"
    }
   ],
   "source": [
    "grid_search.fit(X_train_prep, y_train)"
   ]
  },
  {
   "cell_type": "code",
   "execution_count": 79,
   "metadata": {},
   "outputs": [],
   "source": [
    "train_preds = grid_search.predict(X_train_prep)\n",
    "test_preds  = grid_search.predict(X_test_prep)"
   ]
  },
  {
   "cell_type": "code",
   "execution_count": 80,
   "metadata": {},
   "outputs": [],
   "source": [
    "train = {\"actual\": y_train, \"prediction\": train_preds}\n",
    "train = pd.DataFrame(data = train)\n",
    "\n",
    "test  = {\"actual\": y_test, \"prediction\": test_preds}\n",
    "test  = pd.DataFrame(data = test)\n",
    "\n",
    "train[\"prediction\"] = train[\"prediction\"].apply(np.round)\n",
    "test[\"prediction\"]  = test[\"prediction\"].apply(np.round)\n",
    "\n",
    "train[\"residual\"] = train[\"actual\"] - train[\"prediction\"]\n",
    "test[\"residual\"]  = test[\"actual\"] - test[\"prediction\"]"
   ]
  },
  {
   "cell_type": "code",
   "execution_count": 81,
   "metadata": {},
   "outputs": [
    {
     "data": {
      "text/plain": [
       "<matplotlib.axes._subplots.AxesSubplot at 0x22acda93b50>"
      ]
     },
     "execution_count": 81,
     "metadata": {},
     "output_type": "execute_result"
    },
    {
     "data": {
      "image/png": "[encoded data removed]",
      "text/plain": [
       "<Figure size 432x288 with 1 Axes>"
      ]
     },
     "metadata": {
      "needs_background": "light"
     },
     "output_type": "display_data"
    }
   ],
   "source": [
    "sns.scatterplot(data = test, x = \"actual\", y = \"residual\", alpha = 0.2)"
   ]
  },
  {
   "cell_type": "code",
   "execution_count": 82,
   "metadata": {},
   "outputs": [
    {
     "data": {
      "text/plain": [
       "<matplotlib.axes._subplots.AxesSubplot at 0x22acdb08fd0>"
      ]
     },
     "execution_count": 82,
     "metadata": {},
     "output_type": "execute_result"
    },
    {
     "data": {
      "image/png": "[encoded data removed]",
      "text/plain": [
       "<Figure size 432x288 with 1 Axes>"
      ]
     },
     "metadata": {
      "needs_background": "light"
     },
     "output_type": "display_data"
    }
   ],
   "source": [
    "sns.histplot(data = test, x = \"residual\", binwidth = 0.5)"
   ]
  },
  {
   "cell_type": "code",
   "execution_count": 65,
   "metadata": {},
   "outputs": [
    {
     "data": {
      "text/plain": [
       "dict_keys(['explained_variance', 'r2', 'max_error', 'neg_median_absolute_error', 'neg_mean_absolute_error', 'neg_mean_squared_error', 'neg_mean_squared_log_error', 'neg_root_mean_squared_error', 'neg_mean_poisson_deviance', 'neg_mean_gamma_deviance', 'accuracy', 'roc_auc', 'roc_auc_ovr', 'roc_auc_ovo', 'roc_auc_ovr_weighted', 'roc_auc_ovo_weighted', 'balanced_accuracy', 'average_precision', 'neg_log_loss', 'neg_brier_score', 'adjusted_rand_score', 'homogeneity_score', 'completeness_score', 'v_measure_score', 'mutual_info_score', 'adjusted_mutual_info_score', 'normalized_mutual_info_score', 'fowlkes_mallows_score', 'precision', 'precision_macro', 'precision_micro', 'precision_samples', 'precision_weighted', 'recall', 'recall_macro', 'recall_micro', 'recall_samples', 'recall_weighted', 'f1', 'f1_macro', 'f1_micro', 'f1_samples', 'f1_weighted', 'jaccard', 'jaccard_macro', 'jaccard_micro', 'jaccard_samples', 'jaccard_weighted'])"
      ]
     },
     "execution_count": 65,
     "metadata": {},
     "output_type": "execute_result"
    }
   ],
   "source": [
    "import sklearn\n",
    "sklearn.metrics.SCORERS.keys()"
   ]
  },
  {
   "cell_type": "code",
   "execution_count": 108,
   "metadata": {},
   "outputs": [
    {
     "data": {
      "text/html": [
       "<div>\n",
       "<style scoped>\n",
       "    .dataframe tbody tr th:only-of-type {\n",
       "        vertical-align: middle;\n",
       "    }\n",
       "\n",
       "    .dataframe tbody tr th {\n",
       "        vertical-align: top;\n",
       "    }\n",
       "\n",
       "    .dataframe thead th {\n",
       "        text-align: right;\n",
       "    }\n",
       "</style>\n",
       "<table border=\"1\" class=\"dataframe\">\n",
       "  <thead>\n",
       "    <tr style=\"text-align: right;\">\n",
       "      <th></th>\n",
       "      <th>actual</th>\n",
       "      <th>prediction</th>\n",
       "      <th>residual</th>\n",
       "    </tr>\n",
       "  </thead>\n",
       "  <tbody>\n",
       "    <tr>\n",
       "      <th>1499</th>\n",
       "      <td>14</td>\n",
       "      <td>17.0</td>\n",
       "      <td>-3.0</td>\n",
       "    </tr>\n",
       "    <tr>\n",
       "      <th>1684</th>\n",
       "      <td>6</td>\n",
       "      <td>5.0</td>\n",
       "      <td>1.0</td>\n",
       "    </tr>\n",
       "    <tr>\n",
       "      <th>251</th>\n",
       "      <td>4</td>\n",
       "      <td>10.0</td>\n",
       "      <td>-6.0</td>\n",
       "    </tr>\n",
       "    <tr>\n",
       "      <th>449</th>\n",
       "      <td>4</td>\n",
       "      <td>4.0</td>\n",
       "      <td>0.0</td>\n",
       "    </tr>\n",
       "    <tr>\n",
       "      <th>894</th>\n",
       "      <td>16</td>\n",
       "      <td>8.0</td>\n",
       "      <td>8.0</td>\n",
       "    </tr>\n",
       "    <tr>\n",
       "      <th>...</th>\n",
       "      <td>...</td>\n",
       "      <td>...</td>\n",
       "      <td>...</td>\n",
       "    </tr>\n",
       "    <tr>\n",
       "      <th>1734</th>\n",
       "      <td>25</td>\n",
       "      <td>13.0</td>\n",
       "      <td>12.0</td>\n",
       "    </tr>\n",
       "    <tr>\n",
       "      <th>879</th>\n",
       "      <td>6</td>\n",
       "      <td>12.0</td>\n",
       "      <td>-6.0</td>\n",
       "    </tr>\n",
       "    <tr>\n",
       "      <th>197</th>\n",
       "      <td>2</td>\n",
       "      <td>10.0</td>\n",
       "      <td>-8.0</td>\n",
       "    </tr>\n",
       "    <tr>\n",
       "      <th>241</th>\n",
       "      <td>1</td>\n",
       "      <td>8.0</td>\n",
       "      <td>-7.0</td>\n",
       "    </tr>\n",
       "    <tr>\n",
       "      <th>1671</th>\n",
       "      <td>24</td>\n",
       "      <td>16.0</td>\n",
       "      <td>8.0</td>\n",
       "    </tr>\n",
       "  </tbody>\n",
       "</table>\n",
       "<p>356 rows × 3 columns</p>\n",
       "</div>"
      ],
      "text/plain": [
       "      actual  prediction  residual\n",
       "1499      14        17.0      -3.0\n",
       "1684       6         5.0       1.0\n",
       "251        4        10.0      -6.0\n",
       "449        4         4.0       0.0\n",
       "894       16         8.0       8.0\n",
       "...      ...         ...       ...\n",
       "1734      25        13.0      12.0\n",
       "879        6        12.0      -6.0\n",
       "197        2        10.0      -8.0\n",
       "241        1         8.0      -7.0\n",
       "1671      24        16.0       8.0\n",
       "\n",
       "[356 rows x 3 columns]"
      ]
     },
     "execution_count": 108,
     "metadata": {},
     "output_type": "execute_result"
    }
   ],
   "source": [
    "test"
   ]
  },
  {
   "cell_type": "code",
   "execution_count": 122,
   "metadata": {},
   "outputs": [],
   "source": [
    "test.to_csv(\"test_res.csv\")"
   ]
  },
  {
   "cell_type": "code",
   "execution_count": 68,
   "metadata": {},
   "outputs": [
    {
     "name": "stdout",
     "output_type": "stream",
     "text": [
      "<class 'pandas.core.frame.DataFrame'>\n",
      "Int64Index: 356 entries, 1499 to 1671\n",
      "Data columns (total 3 columns):\n",
      " #   Column      Non-Null Count  Dtype  \n",
      "---  ------      --------------  -----  \n",
      " 0   actual      356 non-null    int64  \n",
      " 1   prediction  356 non-null    float64\n",
      " 2   residual    356 non-null    float64\n",
      "dtypes: float64(2), int64(1)\n",
      "memory usage: 11.1 KB\n"
     ]
    }
   ],
   "source": [
    "test.info()"
   ]
  },
  {
   "cell_type": "code",
   "execution_count": null,
   "metadata": {},
   "outputs": [],
   "source": [
    "data"
   ]
  },
  {
   "cell_type": "code",
   "execution_count": 100,
   "metadata": {},
   "outputs": [
    {
     "data": {
      "text/plain": [
       "-33.93361657303371"
      ]
     },
     "execution_count": 100,
     "metadata": {},
     "output_type": "execute_result"
    }
   ],
   "source": [
    "grid_search.score(X_test_prep, y_test)"
   ]
  },
  {
   "cell_type": "code",
   "execution_count": 98,
   "metadata": {},
   "outputs": [],
   "source": [
    "lr.score??"
   ]
  },
  {
   "cell_type": "code",
   "execution_count": 101,
   "metadata": {},
   "outputs": [
    {
     "data": {
      "text/html": [
       "<div>\n",
       "<style scoped>\n",
       "    .dataframe tbody tr th:only-of-type {\n",
       "        vertical-align: middle;\n",
       "    }\n",
       "\n",
       "    .dataframe tbody tr th {\n",
       "        vertical-align: top;\n",
       "    }\n",
       "\n",
       "    .dataframe thead th {\n",
       "        text-align: right;\n",
       "    }\n",
       "</style>\n",
       "<table border=\"1\" class=\"dataframe\">\n",
       "  <thead>\n",
       "    <tr style=\"text-align: right;\">\n",
       "      <th></th>\n",
       "      <th>date</th>\n",
       "      <th>Max Temp</th>\n",
       "      <th>Avg Temp</th>\n",
       "      <th>Min Temp</th>\n",
       "      <th>Max Dew</th>\n",
       "      <th>Avg Dew</th>\n",
       "      <th>Min Dew</th>\n",
       "      <th>Max Humid</th>\n",
       "      <th>Avg Humid</th>\n",
       "      <th>Min Humid</th>\n",
       "      <th>...</th>\n",
       "      <th>delta_months</th>\n",
       "      <th>delta_weeks</th>\n",
       "      <th>delta_years</th>\n",
       "      <th>restaurant_code</th>\n",
       "      <th>Temp Range</th>\n",
       "      <th>Dew Range</th>\n",
       "      <th>Wind Range</th>\n",
       "      <th>Humid Range</th>\n",
       "      <th>Pres Range</th>\n",
       "      <th>year</th>\n",
       "    </tr>\n",
       "  </thead>\n",
       "  <tbody>\n",
       "    <tr>\n",
       "      <th>0</th>\n",
       "      <td>2019-01-01</td>\n",
       "      <td>52</td>\n",
       "      <td>48.6</td>\n",
       "      <td>43</td>\n",
       "      <td>45</td>\n",
       "      <td>39.9</td>\n",
       "      <td>32</td>\n",
       "      <td>82</td>\n",
       "      <td>71.7</td>\n",
       "      <td>61</td>\n",
       "      <td>...</td>\n",
       "      <td>35</td>\n",
       "      <td>146</td>\n",
       "      <td>3</td>\n",
       "      <td>a</td>\n",
       "      <td>9</td>\n",
       "      <td>13</td>\n",
       "      <td>9</td>\n",
       "      <td>21</td>\n",
       "      <td>1.2</td>\n",
       "      <td>2019</td>\n",
       "    </tr>\n",
       "    <tr>\n",
       "      <th>1</th>\n",
       "      <td>2019-01-02</td>\n",
       "      <td>43</td>\n",
       "      <td>42.4</td>\n",
       "      <td>41</td>\n",
       "      <td>36</td>\n",
       "      <td>34.2</td>\n",
       "      <td>32</td>\n",
       "      <td>81</td>\n",
       "      <td>72.5</td>\n",
       "      <td>66</td>\n",
       "      <td>...</td>\n",
       "      <td>35</td>\n",
       "      <td>146</td>\n",
       "      <td>3</td>\n",
       "      <td>a</td>\n",
       "      <td>2</td>\n",
       "      <td>4</td>\n",
       "      <td>5</td>\n",
       "      <td>15</td>\n",
       "      <td>1.1</td>\n",
       "      <td>2019</td>\n",
       "    </tr>\n",
       "    <tr>\n",
       "      <th>2</th>\n",
       "      <td>2019-01-03</td>\n",
       "      <td>43</td>\n",
       "      <td>41.3</td>\n",
       "      <td>37</td>\n",
       "      <td>36</td>\n",
       "      <td>32.0</td>\n",
       "      <td>28</td>\n",
       "      <td>81</td>\n",
       "      <td>70.1</td>\n",
       "      <td>57</td>\n",
       "      <td>...</td>\n",
       "      <td>35</td>\n",
       "      <td>146</td>\n",
       "      <td>3</td>\n",
       "      <td>a</td>\n",
       "      <td>6</td>\n",
       "      <td>8</td>\n",
       "      <td>5</td>\n",
       "      <td>24</td>\n",
       "      <td>1.0</td>\n",
       "      <td>2019</td>\n",
       "    </tr>\n",
       "    <tr>\n",
       "      <th>3</th>\n",
       "      <td>2019-01-04</td>\n",
       "      <td>41</td>\n",
       "      <td>38.5</td>\n",
       "      <td>36</td>\n",
       "      <td>34</td>\n",
       "      <td>29.6</td>\n",
       "      <td>27</td>\n",
       "      <td>81</td>\n",
       "      <td>70.4</td>\n",
       "      <td>61</td>\n",
       "      <td>...</td>\n",
       "      <td>35</td>\n",
       "      <td>146</td>\n",
       "      <td>3</td>\n",
       "      <td>a</td>\n",
       "      <td>5</td>\n",
       "      <td>7</td>\n",
       "      <td>9</td>\n",
       "      <td>20</td>\n",
       "      <td>1.1</td>\n",
       "      <td>2019</td>\n",
       "    </tr>\n",
       "    <tr>\n",
       "      <th>4</th>\n",
       "      <td>2019-01-05</td>\n",
       "      <td>45</td>\n",
       "      <td>42.3</td>\n",
       "      <td>41</td>\n",
       "      <td>36</td>\n",
       "      <td>33.8</td>\n",
       "      <td>32</td>\n",
       "      <td>76</td>\n",
       "      <td>71.9</td>\n",
       "      <td>66</td>\n",
       "      <td>...</td>\n",
       "      <td>35</td>\n",
       "      <td>146</td>\n",
       "      <td>3</td>\n",
       "      <td>a</td>\n",
       "      <td>4</td>\n",
       "      <td>4</td>\n",
       "      <td>4</td>\n",
       "      <td>10</td>\n",
       "      <td>1.1</td>\n",
       "      <td>2019</td>\n",
       "    </tr>\n",
       "    <tr>\n",
       "      <th>...</th>\n",
       "      <td>...</td>\n",
       "      <td>...</td>\n",
       "      <td>...</td>\n",
       "      <td>...</td>\n",
       "      <td>...</td>\n",
       "      <td>...</td>\n",
       "      <td>...</td>\n",
       "      <td>...</td>\n",
       "      <td>...</td>\n",
       "      <td>...</td>\n",
       "      <td>...</td>\n",
       "      <td>...</td>\n",
       "      <td>...</td>\n",
       "      <td>...</td>\n",
       "      <td>...</td>\n",
       "      <td>...</td>\n",
       "      <td>...</td>\n",
       "      <td>...</td>\n",
       "      <td>...</td>\n",
       "      <td>...</td>\n",
       "      <td>...</td>\n",
       "    </tr>\n",
       "    <tr>\n",
       "      <th>415</th>\n",
       "      <td>2019-07-29</td>\n",
       "      <td>77</td>\n",
       "      <td>69.5</td>\n",
       "      <td>59</td>\n",
       "      <td>57</td>\n",
       "      <td>53.7</td>\n",
       "      <td>50</td>\n",
       "      <td>82</td>\n",
       "      <td>58.1</td>\n",
       "      <td>39</td>\n",
       "      <td>...</td>\n",
       "      <td>39</td>\n",
       "      <td>165</td>\n",
       "      <td>4</td>\n",
       "      <td>b</td>\n",
       "      <td>18</td>\n",
       "      <td>7</td>\n",
       "      <td>11</td>\n",
       "      <td>43</td>\n",
       "      <td>1.1</td>\n",
       "      <td>2019</td>\n",
       "    </tr>\n",
       "    <tr>\n",
       "      <th>416</th>\n",
       "      <td>2019-07-30</td>\n",
       "      <td>70</td>\n",
       "      <td>66.5</td>\n",
       "      <td>64</td>\n",
       "      <td>61</td>\n",
       "      <td>58.2</td>\n",
       "      <td>55</td>\n",
       "      <td>88</td>\n",
       "      <td>74.8</td>\n",
       "      <td>60</td>\n",
       "      <td>...</td>\n",
       "      <td>39</td>\n",
       "      <td>165</td>\n",
       "      <td>4</td>\n",
       "      <td>b</td>\n",
       "      <td>6</td>\n",
       "      <td>6</td>\n",
       "      <td>15</td>\n",
       "      <td>28</td>\n",
       "      <td>1.2</td>\n",
       "      <td>2019</td>\n",
       "    </tr>\n",
       "    <tr>\n",
       "      <th>417</th>\n",
       "      <td>2019-08-01</td>\n",
       "      <td>77</td>\n",
       "      <td>68.9</td>\n",
       "      <td>61</td>\n",
       "      <td>59</td>\n",
       "      <td>55.7</td>\n",
       "      <td>52</td>\n",
       "      <td>82</td>\n",
       "      <td>63.7</td>\n",
       "      <td>47</td>\n",
       "      <td>...</td>\n",
       "      <td>39</td>\n",
       "      <td>165</td>\n",
       "      <td>4</td>\n",
       "      <td>b</td>\n",
       "      <td>16</td>\n",
       "      <td>7</td>\n",
       "      <td>5</td>\n",
       "      <td>35</td>\n",
       "      <td>1.0</td>\n",
       "      <td>2019</td>\n",
       "    </tr>\n",
       "    <tr>\n",
       "      <th>418</th>\n",
       "      <td>2019-08-02</td>\n",
       "      <td>77</td>\n",
       "      <td>68.2</td>\n",
       "      <td>61</td>\n",
       "      <td>61</td>\n",
       "      <td>58.0</td>\n",
       "      <td>54</td>\n",
       "      <td>94</td>\n",
       "      <td>71.8</td>\n",
       "      <td>47</td>\n",
       "      <td>...</td>\n",
       "      <td>39</td>\n",
       "      <td>166</td>\n",
       "      <td>4</td>\n",
       "      <td>b</td>\n",
       "      <td>16</td>\n",
       "      <td>7</td>\n",
       "      <td>12</td>\n",
       "      <td>47</td>\n",
       "      <td>1.1</td>\n",
       "      <td>2019</td>\n",
       "    </tr>\n",
       "    <tr>\n",
       "      <th>419</th>\n",
       "      <td>2019-08-03</td>\n",
       "      <td>75</td>\n",
       "      <td>68.3</td>\n",
       "      <td>63</td>\n",
       "      <td>61</td>\n",
       "      <td>57.7</td>\n",
       "      <td>55</td>\n",
       "      <td>88</td>\n",
       "      <td>70.3</td>\n",
       "      <td>50</td>\n",
       "      <td>...</td>\n",
       "      <td>39</td>\n",
       "      <td>166</td>\n",
       "      <td>4</td>\n",
       "      <td>b</td>\n",
       "      <td>12</td>\n",
       "      <td>6</td>\n",
       "      <td>8</td>\n",
       "      <td>38</td>\n",
       "      <td>1.1</td>\n",
       "      <td>2019</td>\n",
       "    </tr>\n",
       "  </tbody>\n",
       "</table>\n",
       "<p>420 rows × 34 columns</p>\n",
       "</div>"
      ],
      "text/plain": [
       "          date  Max Temp  Avg Temp  Min Temp  Max Dew  Avg Dew  Min Dew  \\\n",
       "0   2019-01-01        52      48.6        43       45     39.9       32   \n",
       "1   2019-01-02        43      42.4        41       36     34.2       32   \n",
       "2   2019-01-03        43      41.3        37       36     32.0       28   \n",
       "3   2019-01-04        41      38.5        36       34     29.6       27   \n",
       "4   2019-01-05        45      42.3        41       36     33.8       32   \n",
       "..         ...       ...       ...       ...      ...      ...      ...   \n",
       "415 2019-07-29        77      69.5        59       57     53.7       50   \n",
       "416 2019-07-30        70      66.5        64       61     58.2       55   \n",
       "417 2019-08-01        77      68.9        61       59     55.7       52   \n",
       "418 2019-08-02        77      68.2        61       61     58.0       54   \n",
       "419 2019-08-03        75      68.3        63       61     57.7       55   \n",
       "\n",
       "     Max Humid  Avg Humid  Min Humid  ...  delta_months  delta_weeks  \\\n",
       "0           82       71.7         61  ...            35          146   \n",
       "1           81       72.5         66  ...            35          146   \n",
       "2           81       70.1         57  ...            35          146   \n",
       "3           81       70.4         61  ...            35          146   \n",
       "4           76       71.9         66  ...            35          146   \n",
       "..         ...        ...        ...  ...           ...          ...   \n",
       "415         82       58.1         39  ...            39          165   \n",
       "416         88       74.8         60  ...            39          165   \n",
       "417         82       63.7         47  ...            39          165   \n",
       "418         94       71.8         47  ...            39          166   \n",
       "419         88       70.3         50  ...            39          166   \n",
       "\n",
       "     delta_years  restaurant_code  Temp Range  Dew Range  Wind Range  \\\n",
       "0              3                a           9         13           9   \n",
       "1              3                a           2          4           5   \n",
       "2              3                a           6          8           5   \n",
       "3              3                a           5          7           9   \n",
       "4              3                a           4          4           4   \n",
       "..           ...              ...         ...        ...         ...   \n",
       "415            4                b          18          7          11   \n",
       "416            4                b           6          6          15   \n",
       "417            4                b          16          7           5   \n",
       "418            4                b          16          7          12   \n",
       "419            4                b          12          6           8   \n",
       "\n",
       "     Humid Range Pres Range  year  \n",
       "0             21        1.2  2019  \n",
       "1             15        1.1  2019  \n",
       "2             24        1.0  2019  \n",
       "3             20        1.1  2019  \n",
       "4             10        1.1  2019  \n",
       "..           ...        ...   ...  \n",
       "415           43        1.1  2019  \n",
       "416           28        1.2  2019  \n",
       "417           35        1.0  2019  \n",
       "418           47        1.1  2019  \n",
       "419           38        1.1  2019  \n",
       "\n",
       "[420 rows x 34 columns]"
      ]
     },
     "execution_count": 101,
     "metadata": {},
     "output_type": "execute_result"
    }
   ],
   "source": [
    "validation"
   ]
  },
  {
   "cell_type": "code",
   "execution_count": null,
   "metadata": {},
   "outputs": [],
   "source": []
  }
 ],
 "metadata": {
  "kernelspec": {
   "display_name": "Python 3",
   "language": "python",
   "name": "python3"
  },
  "language_info": {
   "codemirror_mode": {
    "name": "ipython",
    "version": 3
   },
   "file_extension": ".py",
   "mimetype": "text/x-python",
   "name": "python",
   "nbconvert_exporter": "python",
   "pygments_lexer": "ipython3",
   "version": "3.8.3"
  }
 },
 "nbformat": 4,
 "nbformat_minor": 4
}
